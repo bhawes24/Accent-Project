{
 "cells": [
  {
   "cell_type": "code",
   "execution_count": 1,
   "id": "51382fa9",
   "metadata": {},
   "outputs": [],
   "source": [
    "import pandas as pd\n",
    "import numpy as np\n",
    "import matplotlib.pyplot as plt\n",
    "import seaborn as sns\n",
    "import soundfile as sf\n",
    "import librosa\n",
    "from tqdm import tqdm\n",
    "import pickle\n",
    "import os\n",
    "\n",
    "from keras.models import Sequential, load_model\n",
    "from keras.layers import Conv2D, MaxPool2D, Flatten, Dropout, Dense, LeakyReLU, BatchNormalization\n",
    "from keras.callbacks import ModelCheckpoint\n",
    "from keras.utils import to_categorical\n",
    "from keras.optimizers import Adam\n",
    "from keras.applications import ResNet50\n",
    "from keras import metrics\n",
    "\n",
    "from sklearn.model_selection import train_test_split\n",
    "from sklearn.preprocessing import LabelEncoder, OneHotEncoder\n",
    "from sklearn.decomposition import PCA\n",
    "from sklearn.cluster import KMeans\n",
    "from sklearn.metrics import confusion_matrix, classification_report, silhouette_score\n",
    "from imblearn.over_sampling import RandomOverSampler, SMOTE\n",
    "\n",
    "N_MFCC = 20"
   ]
  },
  {
   "cell_type": "markdown",
   "id": "d95e42f5",
   "metadata": {},
   "source": [
    "# Load Accent Data"
   ]
  },
  {
   "cell_type": "code",
   "execution_count": 2,
   "id": "5a97f463",
   "metadata": {},
   "outputs": [],
   "source": [
    "# load accent data\n",
    "accent_df = pd.read_csv('data/speakers_all.csv')\n",
    "accent_df.head()\n",
    "\n",
    "# drop extra cols\n",
    "accent_df.drop(['Unnamed: 9', 'Unnamed: 10', 'Unnamed: 11'], axis='columns', inplace=True)\n",
    "\n",
    "# drop files with missing recordings\n",
    "accent_df = accent_df[accent_df['file_missing?'] == False]\n",
    "accent_df.reset_index(inplace=True)\n",
    "\n",
    "accent_df.describe(include='all')  # country is too sparse to predict on\n",
    "\n",
    "# only use top 5 languages\n",
    "top_languages = accent_df.value_counts('native_language').index[:5].tolist()\n",
    "accent_df = accent_df[accent_df['native_language'].isin(top_languages)]"
   ]
  },
  {
   "cell_type": "code",
   "execution_count": 3,
   "id": "aa4e68f4",
   "metadata": {},
   "outputs": [
    {
     "data": {
      "text/plain": [
       "['english', 'spanish', 'arabic', 'mandarin', 'french']"
      ]
     },
     "execution_count": 3,
     "metadata": {},
     "output_type": "execute_result"
    }
   ],
   "source": [
    "top_languages"
   ]
  },
  {
   "cell_type": "markdown",
   "id": "e39421fd",
   "metadata": {},
   "source": [
    "# Load and Clean Recordings"
   ]
  },
  {
   "cell_type": "code",
   "execution_count": 4,
   "id": "b03d9a6a",
   "metadata": {},
   "outputs": [
    {
     "name": "stderr",
     "output_type": "stream",
     "text": [
      "100%|██████████| 2138/2138 [01:43<00:00, 20.74it/s]\n"
     ]
    }
   ],
   "source": [
    "# load recordings\n",
    "RECORDINGS_PATH = 'data/recordings'\n",
    "recordings = []\n",
    "for filename in tqdm(os.listdir(RECORDINGS_PATH)):\n",
    "    # load recording\n",
    "    wav, _ = librosa.load(RECORDINGS_PATH + '/' + filename, sr=16000)\n",
    "    recordings.append([filename.split('.')[0], wav])\n",
    "    \n",
    "recordings = pd.DataFrame(recordings, columns=['filename', 'recording'])"
   ]
  },
  {
   "cell_type": "code",
   "execution_count": 5,
   "id": "ad667155",
   "metadata": {},
   "outputs": [
    {
     "data": {
      "text/plain": [
       "True"
      ]
     },
     "execution_count": 5,
     "metadata": {},
     "output_type": "execute_result"
    }
   ],
   "source": [
    "# sync recordings filenames with accents_df filenames\n",
    "accent_df = accent_df[accent_df['filename'].isin(recordings['filename'])]\n",
    "recordings = recordings[recordings['filename'].isin(accent_df['filename'])]\n",
    "recordings['filename'].tolist() == accent_df['filename'].tolist()"
   ]
  },
  {
   "cell_type": "code",
   "execution_count": 6,
   "id": "f4bb6f75",
   "metadata": {},
   "outputs": [
    {
     "data": {
      "text/html": [
       "<div>\n",
       "<style scoped>\n",
       "    .dataframe tbody tr th:only-of-type {\n",
       "        vertical-align: middle;\n",
       "    }\n",
       "\n",
       "    .dataframe tbody tr th {\n",
       "        vertical-align: top;\n",
       "    }\n",
       "\n",
       "    .dataframe thead th {\n",
       "        text-align: right;\n",
       "    }\n",
       "</style>\n",
       "<table border=\"1\" class=\"dataframe\">\n",
       "  <thead>\n",
       "    <tr style=\"text-align: right;\">\n",
       "      <th></th>\n",
       "      <th>filename</th>\n",
       "      <th>recording</th>\n",
       "      <th>length</th>\n",
       "      <th>seconds</th>\n",
       "    </tr>\n",
       "  </thead>\n",
       "  <tbody>\n",
       "    <tr>\n",
       "      <th>38</th>\n",
       "      <td>arabic1</td>\n",
       "      <td>[0.0034055007, 0.00507906, 0.004128609, 0.0059...</td>\n",
       "      <td>727040</td>\n",
       "      <td>45.440000</td>\n",
       "    </tr>\n",
       "    <tr>\n",
       "      <th>39</th>\n",
       "      <td>arabic10</td>\n",
       "      <td>[0.0044173095, 0.0073645804, 0.0061291405, 0.0...</td>\n",
       "      <td>594647</td>\n",
       "      <td>37.165438</td>\n",
       "    </tr>\n",
       "    <tr>\n",
       "      <th>40</th>\n",
       "      <td>arabic100</td>\n",
       "      <td>[0.0008470416, -5.936902e-05, 5.0850602e-05, -...</td>\n",
       "      <td>480165</td>\n",
       "      <td>30.010313</td>\n",
       "    </tr>\n",
       "    <tr>\n",
       "      <th>41</th>\n",
       "      <td>arabic101</td>\n",
       "      <td>[-7.440333e-05, -0.00016715181, 0.0014305564, ...</td>\n",
       "      <td>604365</td>\n",
       "      <td>37.772813</td>\n",
       "    </tr>\n",
       "    <tr>\n",
       "      <th>42</th>\n",
       "      <td>arabic102</td>\n",
       "      <td>[3.7324644e-06, -2.8190887e-05, -2.388857e-05,...</td>\n",
       "      <td>311343</td>\n",
       "      <td>19.458938</td>\n",
       "    </tr>\n",
       "  </tbody>\n",
       "</table>\n",
       "</div>"
      ],
      "text/plain": [
       "     filename                                          recording  length  \\\n",
       "38    arabic1  [0.0034055007, 0.00507906, 0.004128609, 0.0059...  727040   \n",
       "39   arabic10  [0.0044173095, 0.0073645804, 0.0061291405, 0.0...  594647   \n",
       "40  arabic100  [0.0008470416, -5.936902e-05, 5.0850602e-05, -...  480165   \n",
       "41  arabic101  [-7.440333e-05, -0.00016715181, 0.0014305564, ...  604365   \n",
       "42  arabic102  [3.7324644e-06, -2.8190887e-05, -2.388857e-05,...  311343   \n",
       "\n",
       "      seconds  \n",
       "38  45.440000  \n",
       "39  37.165438  \n",
       "40  30.010313  \n",
       "41  37.772813  \n",
       "42  19.458938  "
      ]
     },
     "execution_count": 6,
     "metadata": {},
     "output_type": "execute_result"
    }
   ],
   "source": [
    "# adding recording length columns\n",
    "recordings['length'] = [len(rec) for rec in recordings['recording']]\n",
    "recordings['seconds'] = recordings['length'] / 16000\n",
    "recordings.head()"
   ]
  },
  {
   "cell_type": "code",
   "execution_count": 7,
   "id": "160099a9",
   "metadata": {},
   "outputs": [
    {
     "name": "stdout",
     "output_type": "stream",
     "text": [
      "count    971.000000\n",
      "mean      26.110592\n",
      "std        7.538356\n",
      "min       16.460563\n",
      "25%       21.214125\n",
      "50%       23.723562\n",
      "75%       28.629000\n",
      "max       85.119187\n",
      "Name: seconds, dtype: float64\n"
     ]
    },
    {
     "data": {
      "image/png": "[encoded data removed]",
      "text/plain": [
       "<Figure size 432x288 with 1 Axes>"
      ]
     },
     "metadata": {
      "needs_background": "light"
     },
     "output_type": "display_data"
    }
   ],
   "source": [
    "# some recordings are rediculously long\n",
    "print(recordings['seconds'].describe())\n",
    "sns.boxplot(data=recordings, x='seconds')\n",
    "plt.title('Time of Recordings')\n",
    "plt.show()"
   ]
  },
  {
   "cell_type": "code",
   "execution_count": 8,
   "id": "3f141573",
   "metadata": {},
   "outputs": [],
   "source": [
    "# truncate recordings to the minimum length\n",
    "min_rec_length = recordings['length'].min()\n",
    "recordings_std = [recording[:min_rec_length] for recording in recordings['recording']]"
   ]
  },
  {
   "cell_type": "code",
   "execution_count": 9,
   "id": "37114b4a",
   "metadata": {},
   "outputs": [
    {
     "data": {
      "text/plain": [
       "LabelEncoder()"
      ]
     },
     "execution_count": 9,
     "metadata": {},
     "output_type": "execute_result"
    }
   ],
   "source": [
    "# convert to numpy\n",
    "X = np.array(recordings_std)\n",
    "\n",
    "# define y\n",
    "y = accent_df['native_language']\n",
    "n_classes = len(accent_df['native_language'].unique())\n",
    "le = LabelEncoder()\n",
    "le.fit(y)"
   ]
  },
  {
   "cell_type": "code",
   "execution_count": 10,
   "id": "101bba72",
   "metadata": {},
   "outputs": [],
   "source": [
    "def preproc(X, y, n_mfcc):\n",
    "# split data into train/test\n",
    "    X_train, X_test, y_train, y_test = train_test_split(X, y, test_size=0.2, random_state=123, stratify=y)\n",
    "    X_train, X_val, y_train, y_val = train_test_split(X_train, y_train, test_size=0.2, random_state=123, stratify=y_train)\n",
    "\n",
    "    # data augmentation\n",
    "    X_train_aug = X_train + np.random.normal(0, 0.1, X_train.shape)\n",
    "    np.append(X_train, X_train_aug)\n",
    "    np.append(y_train, y_train)\n",
    "\n",
    "    # apply smote to fix class imbalance\n",
    "    resample = SMOTE()\n",
    "    X_train, y_train = resample.fit_resample(X_train, y_train)\n",
    "    \n",
    "    # apply mfcc transformation\n",
    "    X_train = np.array([librosa.feature.mfcc(y=x, sr=16000, n_mfcc=n_mfcc) for x in tqdm(X_train)])\n",
    "    X_test = np.array([librosa.feature.mfcc(y=x, sr=16000, n_mfcc=n_mfcc) for x in tqdm(X_test)])\n",
    "    X_val = np.array([librosa.feature.mfcc(y=x, sr=16000, n_mfcc=n_mfcc) for x in tqdm(X_val)])\n",
    "    \n",
    "    # reshape X\n",
    "    X_train = X_train.reshape(X_train.shape[0], X_train.shape[1], X_train.shape[2], 1)\n",
    "    X_val = X_val.reshape(X_val.shape[0], X_val.shape[1], X_val.shape[2], 1)\n",
    "    X_test = X_test.reshape(X_test.shape[0], X_test.shape[1], X_test.shape[2], 1)\n",
    "    \n",
    "    # encode y\n",
    "    le = LabelEncoder()\n",
    "    y_train = le.fit_transform(y_train)\n",
    "    y_val = le.transform(y_val)\n",
    "    y_test = le.transform(y_test)\n",
    "    y_train = to_categorical(y_train, num_classes=n_classes)\n",
    "    y_val = to_categorical(y_val, num_classes=n_classes)\n",
    "    y_test = to_categorical(y_test, num_classes=n_classes)\n",
    "    \n",
    "    return X_train, X_test, X_val, y_train, y_test, y_val"
   ]
  },
  {
   "cell_type": "code",
   "execution_count": 11,
   "id": "a83d5358",
   "metadata": {},
   "outputs": [
    {
     "name": "stderr",
     "output_type": "stream",
     "text": [
      "100%|██████████| 1850/1850 [00:58<00:00, 31.51it/s]\n",
      "100%|██████████| 195/195 [00:06<00:00, 29.26it/s]\n",
      "100%|██████████| 156/156 [00:04<00:00, 35.40it/s]\n"
     ]
    }
   ],
   "source": [
    "X_train, X_test, X_val, y_train, y_test, y_val = preproc(X, y, N_MFCC)"
   ]
  },
  {
   "cell_type": "code",
   "execution_count": 12,
   "id": "7c022dfe",
   "metadata": {},
   "outputs": [
    {
     "data": {
      "image/png": "[encoded data removed]",
      "text/plain": [
       "<Figure size 432x288 with 1 Axes>"
      ]
     },
     "metadata": {
      "needs_background": "light"
     },
     "output_type": "display_data"
    },
    {
     "data": {
      "image/png": "[encoded data removed]",
      "text/plain": [
       "<Figure size 432x288 with 1 Axes>"
      ]
     },
     "metadata": {
      "needs_background": "light"
     },
     "output_type": "display_data"
    }
   ],
   "source": [
    "# display example waveform\n",
    "librosa.display.waveshow(X[100], sr=16000)\n",
    "plt.show()\n",
    "\n",
    "# display example spectrogram\n",
    "librosa.display.specshow(X_train[100].reshape(X_train.shape[1], X_train.shape[2]), x_axis='time')\n",
    "plt.show()"
   ]
  },
  {
   "cell_type": "markdown",
   "id": "63899a4d",
   "metadata": {},
   "source": [
    "# pickle"
   ]
  },
  {
   "cell_type": "code",
   "execution_count": 13,
   "id": "a436f0a6",
   "metadata": {},
   "outputs": [],
   "source": [
    "# save to pickle\n",
    "import pickle\n",
    "with open('data.pkl', 'wb') as f:\n",
    "    pickle.dump([\n",
    "        X_train, X_test, X_val,\n",
    "        y_train, y_test, y_val,\n",
    "        accent_df\n",
    "    ], f)"
   ]
  },
  {
   "cell_type": "code",
   "execution_count": 14,
   "id": "182ad5ff",
   "metadata": {},
   "outputs": [],
   "source": [
    "# load data from pickle\n",
    "import pickle\n",
    "with open('data.pkl', 'rb') as f:\n",
    "    X_train, X_test, X_val, y_train, y_test, y_val, accent_df = pickle.load(f)"
   ]
  },
  {
   "cell_type": "markdown",
   "id": "57dc511b",
   "metadata": {},
   "source": [
    "# CNN"
   ]
  },
  {
   "cell_type": "code",
   "execution_count": 15,
   "id": "5ffb5ce1",
   "metadata": {},
   "outputs": [
    {
     "name": "stdout",
     "output_type": "stream",
     "text": [
      "Model: \"sequential\"\n",
      "_________________________________________________________________\n",
      " Layer (type)                Output Shape              Param #   \n",
      "=================================================================\n",
      " conv2d (Conv2D)             (None, 20, 515, 16)       160       \n",
      "                                                                 \n",
      " leaky_re_lu (LeakyReLU)     (None, 20, 515, 16)       0         \n",
      "                                                                 \n",
      " max_pooling2d (MaxPooling2D  (None, 10, 257, 16)      0         \n",
      " )                                                               \n",
      "                                                                 \n",
      " conv2d_1 (Conv2D)           (None, 10, 257, 32)       4640      \n",
      "                                                                 \n",
      " leaky_re_lu_1 (LeakyReLU)   (None, 10, 257, 32)       0         \n",
      "                                                                 \n",
      " max_pooling2d_1 (MaxPooling  (None, 5, 128, 32)       0         \n",
      " 2D)                                                             \n",
      "                                                                 \n",
      " conv2d_2 (Conv2D)           (None, 5, 128, 64)        18496     \n",
      "                                                                 \n",
      " leaky_re_lu_2 (LeakyReLU)   (None, 5, 128, 64)        0         \n",
      "                                                                 \n",
      " max_pooling2d_2 (MaxPooling  (None, 2, 64, 64)        0         \n",
      " 2D)                                                             \n",
      "                                                                 \n",
      " conv2d_3 (Conv2D)           (None, 2, 64, 128)        73856     \n",
      "                                                                 \n",
      " leaky_re_lu_3 (LeakyReLU)   (None, 2, 64, 128)        0         \n",
      "                                                                 \n",
      " max_pooling2d_3 (MaxPooling  (None, 1, 32, 128)       0         \n",
      " 2D)                                                             \n",
      "                                                                 \n",
      " flatten (Flatten)           (None, 4096)              0         \n",
      "                                                                 \n",
      " dense (Dense)               (None, 64)                262208    \n",
      "                                                                 \n",
      " leaky_re_lu_4 (LeakyReLU)   (None, 64)                0         \n",
      "                                                                 \n",
      " dropout (Dropout)           (None, 64)                0         \n",
      "                                                                 \n",
      " dense_1 (Dense)             (None, 32)                2080      \n",
      "                                                                 \n",
      " leaky_re_lu_5 (LeakyReLU)   (None, 32)                0         \n",
      "                                                                 \n",
      " dropout_1 (Dropout)         (None, 32)                0         \n",
      "                                                                 \n",
      " dense_2 (Dense)             (None, 5)                 165       \n",
      "                                                                 \n",
      "=================================================================\n",
      "Total params: 361,605\n",
      "Trainable params: 361,605\n",
      "Non-trainable params: 0\n",
      "_________________________________________________________________\n",
      "None\n"
     ]
    }
   ],
   "source": [
    "input_shape = X_train.shape[1:]\n",
    "kernel_size = 3\n",
    "n_classes = 5\n",
    "\n",
    "# define network\n",
    "model = Sequential()\n",
    "model.add(Conv2D(16, kernel_size=kernel_size, padding='same', input_shape=input_shape))\n",
    "model.add(LeakyReLU())\n",
    "model.add(MaxPool2D())\n",
    "model.add(Conv2D(32, kernel_size=kernel_size, padding='same'))\n",
    "model.add(LeakyReLU())\n",
    "model.add(MaxPool2D())\n",
    "model.add(Conv2D(64, kernel_size=kernel_size, padding='same'))\n",
    "model.add(LeakyReLU())\n",
    "model.add(MaxPool2D())\n",
    "model.add(Conv2D(128, kernel_size=kernel_size, padding='same'))\n",
    "model.add(LeakyReLU())\n",
    "model.add(MaxPool2D())\n",
    "model.add(Flatten())\n",
    "model.add(Dense(64))\n",
    "model.add(LeakyReLU())\n",
    "model.add(Dropout(0.5))\n",
    "model.add(Dense(32))\n",
    "model.add(LeakyReLU())\n",
    "model.add(Dropout(0.5))\n",
    "model.add(Dense(n_classes, activation='softmax'))\n",
    "\n",
    "print(model.summary())"
   ]
  },
  {
   "cell_type": "code",
   "execution_count": 16,
   "id": "91289551",
   "metadata": {
    "scrolled": true
   },
   "outputs": [
    {
     "name": "stdout",
     "output_type": "stream",
     "text": [
      "Epoch 1/100\n",
      "58/58 [==============================] - 11s 160ms/step - loss: 7.7236 - accuracy: 0.1773 - val_loss: 1.8001 - val_accuracy: 0.2308\n",
      "Epoch 2/100\n",
      "58/58 [==============================] - 10s 177ms/step - loss: 3.0859 - accuracy: 0.1995 - val_loss: 1.4789 - val_accuracy: 0.3846\n",
      "Epoch 3/100\n",
      "58/58 [==============================] - 10s 180ms/step - loss: 2.1558 - accuracy: 0.2162 - val_loss: 1.7049 - val_accuracy: 0.1731\n",
      "Epoch 4/100\n",
      "58/58 [==============================] - 10s 172ms/step - loss: 2.0752 - accuracy: 0.2119 - val_loss: 1.5349 - val_accuracy: 0.3462\n",
      "Epoch 5/100\n",
      "58/58 [==============================] - 9s 161ms/step - loss: 1.9650 - accuracy: 0.2319 - val_loss: 1.6167 - val_accuracy: 0.2500\n",
      "Epoch 6/100\n",
      "58/58 [==============================] - 10s 165ms/step - loss: 1.9581 - accuracy: 0.2497 - val_loss: 1.5665 - val_accuracy: 0.2692\n",
      "Epoch 7/100\n",
      "58/58 [==============================] - 10s 166ms/step - loss: 1.8661 - accuracy: 0.2654 - val_loss: 1.6490 - val_accuracy: 0.2179\n",
      "Epoch 8/100\n",
      "58/58 [==============================] - 10s 172ms/step - loss: 1.8325 - accuracy: 0.2778 - val_loss: 1.5657 - val_accuracy: 0.2756\n",
      "Epoch 9/100\n",
      "58/58 [==============================] - 10s 168ms/step - loss: 1.8496 - accuracy: 0.2724 - val_loss: 1.4620 - val_accuracy: 0.4038\n",
      "Epoch 10/100\n",
      "58/58 [==============================] - 9s 157ms/step - loss: 1.7781 - accuracy: 0.2876 - val_loss: 1.5167 - val_accuracy: 0.3269\n",
      "Epoch 11/100\n",
      "58/58 [==============================] - 12s 200ms/step - loss: 1.7361 - accuracy: 0.2924 - val_loss: 1.4475 - val_accuracy: 0.4423\n",
      "Epoch 12/100\n",
      "58/58 [==============================] - 12s 199ms/step - loss: 1.7227 - accuracy: 0.3032 - val_loss: 1.5331 - val_accuracy: 0.2949\n",
      "Epoch 13/100\n",
      "58/58 [==============================] - 10s 172ms/step - loss: 1.6907 - accuracy: 0.3141 - val_loss: 1.4503 - val_accuracy: 0.4103\n",
      "Epoch 14/100\n",
      "58/58 [==============================] - 11s 185ms/step - loss: 1.6570 - accuracy: 0.3259 - val_loss: 1.5373 - val_accuracy: 0.3013\n",
      "Epoch 15/100\n",
      "58/58 [==============================] - 10s 173ms/step - loss: 1.6195 - accuracy: 0.3330 - val_loss: 1.4642 - val_accuracy: 0.3974\n",
      "Epoch 16/100\n",
      "58/58 [==============================] - 10s 165ms/step - loss: 1.5972 - accuracy: 0.3503 - val_loss: 1.3872 - val_accuracy: 0.4615\n",
      "Epoch 17/100\n",
      "58/58 [==============================] - 9s 163ms/step - loss: 1.6115 - accuracy: 0.3459 - val_loss: 1.5012 - val_accuracy: 0.3590\n",
      "Epoch 18/100\n",
      "58/58 [==============================] - 10s 166ms/step - loss: 1.5525 - accuracy: 0.3584 - val_loss: 1.4293 - val_accuracy: 0.4103\n",
      "Epoch 19/100\n",
      "58/58 [==============================] - 10s 169ms/step - loss: 1.5594 - accuracy: 0.3670 - val_loss: 1.4685 - val_accuracy: 0.3782\n",
      "Epoch 20/100\n",
      "58/58 [==============================] - 9s 163ms/step - loss: 1.4857 - accuracy: 0.3876 - val_loss: 1.4868 - val_accuracy: 0.3654\n",
      "Epoch 21/100\n",
      "58/58 [==============================] - 10s 164ms/step - loss: 1.4784 - accuracy: 0.4005 - val_loss: 1.3644 - val_accuracy: 0.4744\n",
      "Epoch 22/100\n",
      "58/58 [==============================] - 9s 162ms/step - loss: 1.4520 - accuracy: 0.4141 - val_loss: 1.4700 - val_accuracy: 0.3718\n",
      "Epoch 23/100\n",
      "58/58 [==============================] - 9s 157ms/step - loss: 1.4124 - accuracy: 0.4222 - val_loss: 1.4206 - val_accuracy: 0.4231\n",
      "Epoch 24/100\n",
      "58/58 [==============================] - 9s 158ms/step - loss: 1.3901 - accuracy: 0.4373 - val_loss: 1.4323 - val_accuracy: 0.4295\n",
      "Epoch 25/100\n",
      "58/58 [==============================] - 10s 167ms/step - loss: 1.3875 - accuracy: 0.4465 - val_loss: 1.4384 - val_accuracy: 0.4231\n",
      "Epoch 26/100\n",
      "58/58 [==============================] - 10s 164ms/step - loss: 1.3573 - accuracy: 0.4449 - val_loss: 1.4172 - val_accuracy: 0.4231\n",
      "Epoch 27/100\n",
      "58/58 [==============================] - 10s 165ms/step - loss: 1.3530 - accuracy: 0.4611 - val_loss: 1.3703 - val_accuracy: 0.4551\n",
      "Epoch 28/100\n",
      "58/58 [==============================] - 10s 178ms/step - loss: 1.2715 - accuracy: 0.4930 - val_loss: 1.3243 - val_accuracy: 0.4808\n",
      "Epoch 29/100\n",
      "58/58 [==============================] - 12s 205ms/step - loss: 1.3027 - accuracy: 0.4665 - val_loss: 1.4515 - val_accuracy: 0.3590\n",
      "Epoch 30/100\n",
      "58/58 [==============================] - 13s 220ms/step - loss: 1.3019 - accuracy: 0.4741 - val_loss: 1.4419 - val_accuracy: 0.3846\n",
      "Epoch 31/100\n",
      "58/58 [==============================] - 11s 193ms/step - loss: 1.2965 - accuracy: 0.4762 - val_loss: 1.3692 - val_accuracy: 0.4872\n",
      "Epoch 32/100\n",
      "58/58 [==============================] - 12s 212ms/step - loss: 1.2398 - accuracy: 0.5027 - val_loss: 1.3125 - val_accuracy: 0.5577\n",
      "Epoch 33/100\n",
      "58/58 [==============================] - 11s 193ms/step - loss: 1.2335 - accuracy: 0.5027 - val_loss: 1.3937 - val_accuracy: 0.4359\n",
      "Epoch 34/100\n",
      "58/58 [==============================] - 12s 215ms/step - loss: 1.1986 - accuracy: 0.5276 - val_loss: 1.3798 - val_accuracy: 0.4679\n",
      "Epoch 35/100\n",
      "58/58 [==============================] - 12s 199ms/step - loss: 1.1716 - accuracy: 0.5362 - val_loss: 1.3414 - val_accuracy: 0.4872\n",
      "Epoch 36/100\n",
      "58/58 [==============================] - 11s 189ms/step - loss: 1.1836 - accuracy: 0.5432 - val_loss: 1.4109 - val_accuracy: 0.4359\n",
      "Epoch 37/100\n",
      "58/58 [==============================] - 10s 170ms/step - loss: 1.1738 - accuracy: 0.5281 - val_loss: 1.3518 - val_accuracy: 0.4679\n",
      "Epoch 38/100\n",
      "58/58 [==============================] - 10s 172ms/step - loss: 1.1442 - accuracy: 0.5378 - val_loss: 1.3329 - val_accuracy: 0.4679\n",
      "Epoch 39/100\n",
      "58/58 [==============================] - 9s 162ms/step - loss: 1.1397 - accuracy: 0.5589 - val_loss: 1.2813 - val_accuracy: 0.5385\n",
      "Epoch 40/100\n",
      "58/58 [==============================] - 10s 164ms/step - loss: 1.1325 - accuracy: 0.5530 - val_loss: 1.3128 - val_accuracy: 0.5705\n",
      "Epoch 41/100\n",
      "58/58 [==============================] - 9s 160ms/step - loss: 1.0972 - accuracy: 0.5741 - val_loss: 1.3434 - val_accuracy: 0.5321\n",
      "Epoch 42/100\n",
      "58/58 [==============================] - 9s 161ms/step - loss: 1.0994 - accuracy: 0.5719 - val_loss: 1.2928 - val_accuracy: 0.5385\n",
      "Epoch 43/100\n",
      "58/58 [==============================] - 9s 161ms/step - loss: 1.1180 - accuracy: 0.5578 - val_loss: 1.3725 - val_accuracy: 0.4744\n",
      "Epoch 44/100\n",
      "58/58 [==============================] - 9s 160ms/step - loss: 1.0919 - accuracy: 0.5724 - val_loss: 1.3698 - val_accuracy: 0.4551\n",
      "Epoch 45/100\n",
      "58/58 [==============================] - 9s 158ms/step - loss: 1.0435 - accuracy: 0.5822 - val_loss: 1.3868 - val_accuracy: 0.4615\n",
      "Epoch 46/100\n",
      "58/58 [==============================] - 9s 159ms/step - loss: 1.0458 - accuracy: 0.5827 - val_loss: 1.3097 - val_accuracy: 0.5385\n",
      "Epoch 47/100\n",
      "58/58 [==============================] - 9s 163ms/step - loss: 1.0312 - accuracy: 0.5832 - val_loss: 1.3481 - val_accuracy: 0.5321\n",
      "Epoch 48/100\n",
      "58/58 [==============================] - 9s 156ms/step - loss: 1.0295 - accuracy: 0.5962 - val_loss: 1.2558 - val_accuracy: 0.5833\n",
      "Epoch 49/100\n",
      "58/58 [==============================] - 9s 156ms/step - loss: 1.0157 - accuracy: 0.5962 - val_loss: 1.2821 - val_accuracy: 0.5769\n",
      "Epoch 50/100\n",
      "58/58 [==============================] - 9s 160ms/step - loss: 0.9948 - accuracy: 0.6178 - val_loss: 1.3320 - val_accuracy: 0.5064\n",
      "Epoch 51/100\n",
      "58/58 [==============================] - 9s 156ms/step - loss: 0.9807 - accuracy: 0.6103 - val_loss: 1.2867 - val_accuracy: 0.5577\n",
      "Epoch 52/100\n",
      "58/58 [==============================] - 9s 160ms/step - loss: 0.9668 - accuracy: 0.6254 - val_loss: 1.2827 - val_accuracy: 0.5577\n",
      "Epoch 53/100\n",
      "58/58 [==============================] - 9s 155ms/step - loss: 0.9722 - accuracy: 0.6330 - val_loss: 1.2982 - val_accuracy: 0.5385\n",
      "Epoch 54/100\n",
      "58/58 [==============================] - 9s 160ms/step - loss: 0.9530 - accuracy: 0.6324 - val_loss: 1.2959 - val_accuracy: 0.5513\n",
      "Epoch 55/100\n",
      "58/58 [==============================] - 9s 158ms/step - loss: 0.9553 - accuracy: 0.6254 - val_loss: 1.3235 - val_accuracy: 0.5000\n",
      "Epoch 56/100\n",
      "58/58 [==============================] - 9s 160ms/step - loss: 0.9277 - accuracy: 0.6476 - val_loss: 1.2647 - val_accuracy: 0.5833\n",
      "Epoch 57/100\n",
      "58/58 [==============================] - 10s 164ms/step - loss: 0.9144 - accuracy: 0.6449 - val_loss: 1.2630 - val_accuracy: 0.5769\n"
     ]
    },
    {
     "name": "stdout",
     "output_type": "stream",
     "text": [
      "Epoch 58/100\n",
      "58/58 [==============================] - 9s 161ms/step - loss: 0.9196 - accuracy: 0.6492 - val_loss: 1.3262 - val_accuracy: 0.5513\n",
      "Epoch 59/100\n",
      "58/58 [==============================] - 9s 161ms/step - loss: 0.9271 - accuracy: 0.6465 - val_loss: 1.2708 - val_accuracy: 0.5769\n",
      "Epoch 60/100\n",
      "58/58 [==============================] - 9s 158ms/step - loss: 0.8779 - accuracy: 0.6616 - val_loss: 1.2986 - val_accuracy: 0.5256\n",
      "Epoch 61/100\n",
      "58/58 [==============================] - 9s 164ms/step - loss: 0.8403 - accuracy: 0.6865 - val_loss: 1.3212 - val_accuracy: 0.5256\n",
      "Epoch 62/100\n",
      "58/58 [==============================] - 9s 162ms/step - loss: 0.8947 - accuracy: 0.6503 - val_loss: 1.2996 - val_accuracy: 0.5833\n",
      "Epoch 63/100\n",
      "58/58 [==============================] - 10s 168ms/step - loss: 0.8736 - accuracy: 0.6622 - val_loss: 1.2468 - val_accuracy: 0.5705\n",
      "Epoch 64/100\n",
      "58/58 [==============================] - 9s 157ms/step - loss: 0.8619 - accuracy: 0.6789 - val_loss: 1.2982 - val_accuracy: 0.5256\n",
      "Epoch 65/100\n",
      "58/58 [==============================] - 9s 159ms/step - loss: 0.8344 - accuracy: 0.6805 - val_loss: 1.2502 - val_accuracy: 0.5769\n",
      "Epoch 66/100\n",
      "58/58 [==============================] - 10s 167ms/step - loss: 0.8406 - accuracy: 0.6730 - val_loss: 1.2674 - val_accuracy: 0.5897\n",
      "Epoch 67/100\n",
      "58/58 [==============================] - 9s 157ms/step - loss: 0.8208 - accuracy: 0.6919 - val_loss: 1.2795 - val_accuracy: 0.5769\n",
      "Epoch 68/100\n",
      "58/58 [==============================] - 10s 165ms/step - loss: 0.8168 - accuracy: 0.6941 - val_loss: 1.2618 - val_accuracy: 0.5769\n",
      "Epoch 69/100\n",
      "58/58 [==============================] - 9s 158ms/step - loss: 0.7812 - accuracy: 0.7059 - val_loss: 1.2626 - val_accuracy: 0.5833\n",
      "Epoch 70/100\n",
      "58/58 [==============================] - 9s 163ms/step - loss: 0.8202 - accuracy: 0.6897 - val_loss: 1.2875 - val_accuracy: 0.5705\n",
      "Epoch 71/100\n",
      "58/58 [==============================] - 10s 166ms/step - loss: 0.7787 - accuracy: 0.7086 - val_loss: 1.2709 - val_accuracy: 0.5705\n",
      "Epoch 72/100\n",
      "58/58 [==============================] - 10s 166ms/step - loss: 0.7842 - accuracy: 0.7043 - val_loss: 1.2727 - val_accuracy: 0.5705\n",
      "Epoch 73/100\n",
      "58/58 [==============================] - 10s 168ms/step - loss: 0.7930 - accuracy: 0.7011 - val_loss: 1.2333 - val_accuracy: 0.5833\n",
      "Epoch 74/100\n",
      "58/58 [==============================] - 9s 160ms/step - loss: 0.7747 - accuracy: 0.7016 - val_loss: 1.2936 - val_accuracy: 0.5321\n",
      "Epoch 75/100\n",
      "58/58 [==============================] - 9s 157ms/step - loss: 0.7869 - accuracy: 0.7049 - val_loss: 1.2688 - val_accuracy: 0.5641\n",
      "Epoch 76/100\n",
      "58/58 [==============================] - 10s 171ms/step - loss: 0.7570 - accuracy: 0.7000 - val_loss: 1.2299 - val_accuracy: 0.6090\n",
      "Epoch 77/100\n",
      "58/58 [==============================] - 9s 163ms/step - loss: 0.7618 - accuracy: 0.7108 - val_loss: 1.2582 - val_accuracy: 0.5449\n",
      "Epoch 78/100\n",
      "58/58 [==============================] - 10s 177ms/step - loss: 0.7406 - accuracy: 0.7243 - val_loss: 1.2813 - val_accuracy: 0.5641\n",
      "Epoch 79/100\n",
      "58/58 [==============================] - 10s 174ms/step - loss: 0.7406 - accuracy: 0.7238 - val_loss: 1.2598 - val_accuracy: 0.6090\n",
      "Epoch 80/100\n",
      "58/58 [==============================] - 10s 179ms/step - loss: 0.7398 - accuracy: 0.7141 - val_loss: 1.2722 - val_accuracy: 0.5641\n",
      "Epoch 81/100\n",
      "58/58 [==============================] - 9s 163ms/step - loss: 0.7002 - accuracy: 0.7335 - val_loss: 1.2454 - val_accuracy: 0.5962\n",
      "Epoch 82/100\n",
      "58/58 [==============================] - 9s 162ms/step - loss: 0.6831 - accuracy: 0.7314 - val_loss: 1.2796 - val_accuracy: 0.5577\n",
      "Epoch 83/100\n",
      "58/58 [==============================] - 9s 161ms/step - loss: 0.7186 - accuracy: 0.7292 - val_loss: 1.2425 - val_accuracy: 0.5897\n",
      "Epoch 84/100\n",
      "58/58 [==============================] - 9s 161ms/step - loss: 0.7123 - accuracy: 0.7373 - val_loss: 1.2099 - val_accuracy: 0.6090\n",
      "Epoch 85/100\n",
      "58/58 [==============================] - 9s 158ms/step - loss: 0.6783 - accuracy: 0.7557 - val_loss: 1.2481 - val_accuracy: 0.5833\n",
      "Epoch 86/100\n",
      "58/58 [==============================] - 10s 168ms/step - loss: 0.6693 - accuracy: 0.7454 - val_loss: 1.2692 - val_accuracy: 0.5641\n",
      "Epoch 87/100\n",
      "58/58 [==============================] - 10s 175ms/step - loss: 0.6640 - accuracy: 0.7470 - val_loss: 1.3478 - val_accuracy: 0.5064\n",
      "Epoch 88/100\n",
      "58/58 [==============================] - 9s 161ms/step - loss: 0.6872 - accuracy: 0.7465 - val_loss: 1.2177 - val_accuracy: 0.6410\n",
      "Epoch 89/100\n",
      "58/58 [==============================] - 9s 163ms/step - loss: 0.6724 - accuracy: 0.7346 - val_loss: 1.2575 - val_accuracy: 0.5897\n",
      "Epoch 90/100\n",
      "58/58 [==============================] - 10s 165ms/step - loss: 0.6749 - accuracy: 0.7459 - val_loss: 1.2327 - val_accuracy: 0.6218\n",
      "Epoch 91/100\n",
      "58/58 [==============================] - 10s 168ms/step - loss: 0.6553 - accuracy: 0.7551 - val_loss: 1.2089 - val_accuracy: 0.6346\n",
      "Epoch 92/100\n",
      "58/58 [==============================] - 9s 158ms/step - loss: 0.6435 - accuracy: 0.7589 - val_loss: 1.2625 - val_accuracy: 0.5705\n",
      "Epoch 93/100\n",
      "58/58 [==============================] - 9s 160ms/step - loss: 0.6336 - accuracy: 0.7703 - val_loss: 1.2480 - val_accuracy: 0.5769\n",
      "Epoch 94/100\n",
      "58/58 [==============================] - 9s 160ms/step - loss: 0.6344 - accuracy: 0.7605 - val_loss: 1.2582 - val_accuracy: 0.5833\n",
      "Epoch 95/100\n",
      "58/58 [==============================] - 9s 163ms/step - loss: 0.6273 - accuracy: 0.7638 - val_loss: 1.2047 - val_accuracy: 0.6282\n",
      "Epoch 96/100\n",
      "58/58 [==============================] - 9s 160ms/step - loss: 0.6196 - accuracy: 0.7735 - val_loss: 1.2483 - val_accuracy: 0.6154\n",
      "Epoch 97/100\n",
      "58/58 [==============================] - 9s 163ms/step - loss: 0.6334 - accuracy: 0.7676 - val_loss: 1.2524 - val_accuracy: 0.5962\n",
      "Epoch 98/100\n",
      "58/58 [==============================] - 9s 161ms/step - loss: 0.6053 - accuracy: 0.7730 - val_loss: 1.2515 - val_accuracy: 0.5962\n",
      "Epoch 99/100\n",
      "58/58 [==============================] - 9s 157ms/step - loss: 0.6086 - accuracy: 0.7827 - val_loss: 1.2455 - val_accuracy: 0.6090\n",
      "Epoch 100/100\n",
      "58/58 [==============================] - 9s 159ms/step - loss: 0.5990 - accuracy: 0.7816 - val_loss: 1.2157 - val_accuracy: 0.6282\n",
      "7/7 [==============================] - 0s 41ms/step - loss: 1.2995 - accuracy: 0.5333\n"
     ]
    },
    {
     "data": {
      "image/png": "[encoded data removed]",
      "text/plain": [
       "<Figure size 432x288 with 1 Axes>"
      ]
     },
     "metadata": {
      "needs_background": "light"
     },
     "output_type": "display_data"
    },
    {
     "name": "stdout",
     "output_type": "stream",
     "text": [
      "7/7 [==============================] - 1s 42ms/step\n",
      "              precision    recall  f1-score   support\n",
      "\n",
      "      arabic       0.00      0.00      0.00        20\n",
      "     english       0.73      0.78      0.76       116\n",
      "      french       0.08      0.08      0.08        13\n",
      "    mandarin       0.43      0.23      0.30        13\n",
      "     spanish       0.27      0.27      0.27        33\n",
      "\n",
      "    accuracy                           0.53       195\n",
      "   macro avg       0.30      0.27      0.28       195\n",
      "weighted avg       0.52      0.53      0.52       195\n",
      "\n",
      "[[ 0  5  5  1  9]\n",
      " [ 7 91  3  2 13]\n",
      " [ 4  7  1  0  1]\n",
      " [ 1  8  0  3  1]\n",
      " [ 7 13  3  1  9]]\n"
     ]
    }
   ],
   "source": [
    "model.compile(optimizer=Adam(learning_rate=0.00001), loss='categorical_crossentropy', metrics=['accuracy'])\n",
    "epochs = 100\n",
    "\n",
    "checkpoint = ModelCheckpoint('weights/weights.hdf5', monitor='val_loss', save_best_only=True)\n",
    "history = model.fit(X_train, y_train, epochs=epochs, batch_size=32, callbacks=[checkpoint], shuffle=True, validation_data=(X_val, y_val))\n",
    "model.load_weights('weights/weights.hdf5')\n",
    "model.evaluate(X_test, y_test)\n",
    "\n",
    "# plot loss\n",
    "plt.plot(range(1, epochs+1), history.history['loss'], label='train')\n",
    "plt.plot(range(1, epochs+1), history.history['val_loss'], label='validation')\n",
    "plt.title('Loss for Original Model')\n",
    "plt.legend()\n",
    "plt.show()\n",
    "\n",
    "# test metrics and confidence matrix\n",
    "y_pred = np.argmax(model.predict(X_test), axis=1)\n",
    "y_labels = np.argmax(y_test, axis=1)\n",
    "print(classification_report(y_labels, y_pred, target_names=le.classes_.tolist()))\n",
    "print(confusion_matrix(y_labels, y_pred))\n"
   ]
  },
  {
   "cell_type": "code",
   "execution_count": 17,
   "id": "f2349f69",
   "metadata": {},
   "outputs": [
    {
     "data": {
      "image/png": "[encoded data removed]",
      "text/plain": [
       "<Figure size 432x288 with 1 Axes>"
      ]
     },
     "metadata": {
      "needs_background": "light"
     },
     "output_type": "display_data"
    }
   ],
   "source": [
    "plt.plot(range(1, epochs+1), history.history['accuracy'], label='train')\n",
    "plt.plot(range(1, epochs+1), history.history['val_accuracy'], label='validation')\n",
    "plt.title('Accuracy for Original Model')\n",
    "plt.legend()\n",
    "plt.show()"
   ]
  },
  {
   "cell_type": "markdown",
   "id": "aff1f88e",
   "metadata": {},
   "source": [
    "# KMeans"
   ]
  },
  {
   "cell_type": "code",
   "execution_count": 18,
   "id": "b1d1c707",
   "metadata": {},
   "outputs": [
    {
     "name": "stderr",
     "output_type": "stream",
     "text": [
      "100%|██████████| 971/971 [00:31<00:00, 30.58it/s]\n",
      "100%|██████████| 8/8 [00:45<00:00,  5.69s/it]\n"
     ]
    },
    {
     "data": {
      "image/png": "[encoded data removed]",
      "text/plain": [
       "<Figure size 432x288 with 1 Axes>"
      ]
     },
     "metadata": {
      "needs_background": "light"
     },
     "output_type": "display_data"
    }
   ],
   "source": [
    "# get X_mfcc\n",
    "X_mfcc = np.array([librosa.feature.mfcc(y=x, sr=16000, n_mfcc=N_MFCC) for x in tqdm(X)])\n",
    "X_mfcc = X_mfcc.reshape(X_mfcc.shape[0], -1)\n",
    "\n",
    "# kmeans\n",
    "ks = range(2, 10)\n",
    "silhouettes = []\n",
    "for k in tqdm(ks):\n",
    "    kmeans = KMeans(n_clusters=k)\n",
    "    cluster_labels = kmeans.fit_predict(X_mfcc)\n",
    "    silhouette_avg = silhouette_score(X_mfcc, cluster_labels)\n",
    "    silhouettes.append(silhouette_avg)\n",
    "    \n",
    "plt.plot(ks, silhouettes)\n",
    "plt.show()\n",
    "# 2 clusters is best"
   ]
  },
  {
   "cell_type": "code",
   "execution_count": 19,
   "id": "f809c92a",
   "metadata": {
    "scrolled": true
   },
   "outputs": [
    {
     "data": {
      "text/html": [
       "<div>\n",
       "<style scoped>\n",
       "    .dataframe tbody tr th:only-of-type {\n",
       "        vertical-align: middle;\n",
       "    }\n",
       "\n",
       "    .dataframe tbody tr th {\n",
       "        vertical-align: top;\n",
       "    }\n",
       "\n",
       "    .dataframe thead th {\n",
       "        text-align: right;\n",
       "    }\n",
       "</style>\n",
       "<table border=\"1\" class=\"dataframe\">\n",
       "  <thead>\n",
       "    <tr style=\"text-align: right;\">\n",
       "      <th></th>\n",
       "      <th>cluster label</th>\n",
       "      <th>language</th>\n",
       "    </tr>\n",
       "  </thead>\n",
       "  <tbody>\n",
       "    <tr>\n",
       "      <th>38</th>\n",
       "      <td>1</td>\n",
       "      <td>arabic</td>\n",
       "    </tr>\n",
       "    <tr>\n",
       "      <th>39</th>\n",
       "      <td>0</td>\n",
       "      <td>arabic</td>\n",
       "    </tr>\n",
       "    <tr>\n",
       "      <th>40</th>\n",
       "      <td>0</td>\n",
       "      <td>arabic</td>\n",
       "    </tr>\n",
       "    <tr>\n",
       "      <th>41</th>\n",
       "      <td>0</td>\n",
       "      <td>arabic</td>\n",
       "    </tr>\n",
       "    <tr>\n",
       "      <th>42</th>\n",
       "      <td>1</td>\n",
       "      <td>arabic</td>\n",
       "    </tr>\n",
       "  </tbody>\n",
       "</table>\n",
       "</div>"
      ],
      "text/plain": [
       "    cluster label language\n",
       "38              1   arabic\n",
       "39              0   arabic\n",
       "40              0   arabic\n",
       "41              0   arabic\n",
       "42              1   arabic"
      ]
     },
     "execution_count": 19,
     "metadata": {},
     "output_type": "execute_result"
    }
   ],
   "source": [
    "# divide into 2 clusters\n",
    "kmeans = KMeans(n_clusters=2)\n",
    "cluster_df = pd.DataFrame({'cluster label':kmeans.fit_predict(X_mfcc),\n",
    "                        'language':y})\n",
    "cluster_df.head()"
   ]
  },
  {
   "cell_type": "code",
   "execution_count": 20,
   "id": "6a9ead0e",
   "metadata": {},
   "outputs": [],
   "source": [
    "cluster_df = pd.concat([cluster_df, pd.get_dummies(cluster_df['language'])], axis='columns')"
   ]
  },
  {
   "cell_type": "code",
   "execution_count": 21,
   "id": "7978bec2",
   "metadata": {},
   "outputs": [
    {
     "data": {
      "text/html": [
       "<div>\n",
       "<style scoped>\n",
       "    .dataframe tbody tr th:only-of-type {\n",
       "        vertical-align: middle;\n",
       "    }\n",
       "\n",
       "    .dataframe tbody tr th {\n",
       "        vertical-align: top;\n",
       "    }\n",
       "\n",
       "    .dataframe thead th {\n",
       "        text-align: right;\n",
       "    }\n",
       "</style>\n",
       "<table border=\"1\" class=\"dataframe\">\n",
       "  <thead>\n",
       "    <tr style=\"text-align: right;\">\n",
       "      <th></th>\n",
       "      <th>cluster label</th>\n",
       "      <th>arabic</th>\n",
       "      <th>english</th>\n",
       "      <th>french</th>\n",
       "      <th>mandarin</th>\n",
       "      <th>spanish</th>\n",
       "    </tr>\n",
       "  </thead>\n",
       "  <tbody>\n",
       "    <tr>\n",
       "      <th>cluster label</th>\n",
       "      <td>1.000000</td>\n",
       "      <td>-0.163699</td>\n",
       "      <td>0.131877</td>\n",
       "      <td>0.010645</td>\n",
       "      <td>-0.039019</td>\n",
       "      <td>-0.019800</td>\n",
       "    </tr>\n",
       "    <tr>\n",
       "      <th>arabic</th>\n",
       "      <td>-0.163699</td>\n",
       "      <td>1.000000</td>\n",
       "      <td>-0.416377</td>\n",
       "      <td>-0.090244</td>\n",
       "      <td>-0.091766</td>\n",
       "      <td>-0.153311</td>\n",
       "    </tr>\n",
       "    <tr>\n",
       "      <th>english</th>\n",
       "      <td>0.131877</td>\n",
       "      <td>-0.416377</td>\n",
       "      <td>1.000000</td>\n",
       "      <td>-0.320128</td>\n",
       "      <td>-0.325528</td>\n",
       "      <td>-0.543850</td>\n",
       "    </tr>\n",
       "    <tr>\n",
       "      <th>french</th>\n",
       "      <td>0.010645</td>\n",
       "      <td>-0.090244</td>\n",
       "      <td>-0.320128</td>\n",
       "      <td>1.000000</td>\n",
       "      <td>-0.070554</td>\n",
       "      <td>-0.117872</td>\n",
       "    </tr>\n",
       "    <tr>\n",
       "      <th>mandarin</th>\n",
       "      <td>-0.039019</td>\n",
       "      <td>-0.091766</td>\n",
       "      <td>-0.325528</td>\n",
       "      <td>-0.070554</td>\n",
       "      <td>1.000000</td>\n",
       "      <td>-0.119860</td>\n",
       "    </tr>\n",
       "    <tr>\n",
       "      <th>spanish</th>\n",
       "      <td>-0.019800</td>\n",
       "      <td>-0.153311</td>\n",
       "      <td>-0.543850</td>\n",
       "      <td>-0.117872</td>\n",
       "      <td>-0.119860</td>\n",
       "      <td>1.000000</td>\n",
       "    </tr>\n",
       "  </tbody>\n",
       "</table>\n",
       "</div>"
      ],
      "text/plain": [
       "               cluster label    arabic   english    french  mandarin   spanish\n",
       "cluster label       1.000000 -0.163699  0.131877  0.010645 -0.039019 -0.019800\n",
       "arabic             -0.163699  1.000000 -0.416377 -0.090244 -0.091766 -0.153311\n",
       "english             0.131877 -0.416377  1.000000 -0.320128 -0.325528 -0.543850\n",
       "french              0.010645 -0.090244 -0.320128  1.000000 -0.070554 -0.117872\n",
       "mandarin           -0.039019 -0.091766 -0.325528 -0.070554  1.000000 -0.119860\n",
       "spanish            -0.019800 -0.153311 -0.543850 -0.117872 -0.119860  1.000000"
      ]
     },
     "execution_count": 21,
     "metadata": {},
     "output_type": "execute_result"
    }
   ],
   "source": [
    "cluster_df.corr()"
   ]
  },
  {
   "cell_type": "code",
   "execution_count": 22,
   "id": "7e80fe47",
   "metadata": {},
   "outputs": [
    {
     "name": "stdout",
     "output_type": "stream",
     "text": [
      "(482, 263369) (489, 263369)\n"
     ]
    }
   ],
   "source": [
    "# split data by cluster\n",
    "X0 = X[cluster_df['cluster label'] == 0]\n",
    "X1 = X[cluster_df['cluster label'] == 1]\n",
    "y0 = y[cluster_df['cluster label'] == 0]\n",
    "y1 = y[cluster_df['cluster label'] == 1]\n",
    "print(X0.shape, X1.shape)"
   ]
  },
  {
   "cell_type": "code",
   "execution_count": 23,
   "id": "77572597",
   "metadata": {},
   "outputs": [
    {
     "name": "stderr",
     "output_type": "stream",
     "text": [
      "100%|██████████| 815/815 [00:23<00:00, 35.10it/s]\n",
      "100%|██████████| 97/97 [00:02<00:00, 36.27it/s]\n",
      "100%|██████████| 77/77 [00:02<00:00, 36.81it/s]\n",
      "100%|██████████| 1030/1030 [00:28<00:00, 35.97it/s]\n",
      "100%|██████████| 98/98 [00:03<00:00, 30.74it/s]\n",
      "100%|██████████| 79/79 [00:02<00:00, 36.82it/s]\n"
     ]
    }
   ],
   "source": [
    "X0_train, X0_test, X0_val, y0_train, y0_test, y0_val = preproc(X0, y0, N_MFCC)\n",
    "X1_train, X1_test, X1_val, y1_train, y1_test, y1_val = preproc(X1, y1, N_MFCC)"
   ]
  },
  {
   "cell_type": "code",
   "execution_count": 24,
   "id": "8b57c6fe",
   "metadata": {},
   "outputs": [],
   "source": [
    "input_shape = X_train.shape[1:]\n",
    "kernel_size=3\n",
    "\n",
    "# define network\n",
    "model = Sequential()\n",
    "model.add(Conv2D(16, kernel_size=kernel_size, padding='same', input_shape=input_shape))\n",
    "model.add(LeakyReLU())\n",
    "model.add(MaxPool2D())\n",
    "model.add(Conv2D(32, kernel_size=kernel_size, padding='same'))\n",
    "model.add(LeakyReLU())\n",
    "model.add(MaxPool2D())\n",
    "model.add(Conv2D(64, kernel_size=kernel_size, padding='same'))\n",
    "model.add(LeakyReLU())\n",
    "model.add(MaxPool2D())\n",
    "model.add(Conv2D(128, kernel_size=kernel_size, padding='same'))\n",
    "model.add(LeakyReLU())\n",
    "model.add(MaxPool2D())\n",
    "model.add(Flatten())\n",
    "model.add(Dense(64))\n",
    "model.add(LeakyReLU())\n",
    "model.add(Dropout(0.5))\n",
    "model.add(Dense(32))\n",
    "model.add(LeakyReLU())\n",
    "model.add(Dropout(0.5))\n",
    "model.add(Dense(n_classes, activation='softmax'))"
   ]
  },
  {
   "cell_type": "code",
   "execution_count": 25,
   "id": "6bf43ffe",
   "metadata": {},
   "outputs": [
    {
     "name": "stdout",
     "output_type": "stream",
     "text": [
      "Epoch 1/100\n",
      "26/26 [==============================] - 5s 142ms/step - loss: 1.2265 - accuracy: 0.5706 - val_loss: 0.8391 - val_accuracy: 0.7403\n",
      "Epoch 2/100\n",
      "26/26 [==============================] - 4s 143ms/step - loss: 1.2229 - accuracy: 0.5632 - val_loss: 0.8474 - val_accuracy: 0.7403\n",
      "Epoch 3/100\n",
      "26/26 [==============================] - 4s 153ms/step - loss: 1.1916 - accuracy: 0.5779 - val_loss: 0.8622 - val_accuracy: 0.7662\n",
      "Epoch 4/100\n",
      "26/26 [==============================] - 4s 156ms/step - loss: 1.1754 - accuracy: 0.5644 - val_loss: 0.8692 - val_accuracy: 0.7662\n",
      "Epoch 5/100\n",
      "26/26 [==============================] - 4s 152ms/step - loss: 1.1602 - accuracy: 0.5632 - val_loss: 0.8699 - val_accuracy: 0.7532\n",
      "Epoch 6/100\n",
      "26/26 [==============================] - 4s 158ms/step - loss: 1.1728 - accuracy: 0.5632 - val_loss: 0.8768 - val_accuracy: 0.7532\n",
      "Epoch 7/100\n",
      "26/26 [==============================] - 4s 164ms/step - loss: 1.1549 - accuracy: 0.5509 - val_loss: 0.8819 - val_accuracy: 0.7403\n",
      "Epoch 8/100\n",
      "26/26 [==============================] - 4s 162ms/step - loss: 1.2274 - accuracy: 0.5546 - val_loss: 0.8753 - val_accuracy: 0.7662\n",
      "Epoch 9/100\n",
      "26/26 [==============================] - 4s 160ms/step - loss: 1.1480 - accuracy: 0.5791 - val_loss: 0.8748 - val_accuracy: 0.7532\n",
      "Epoch 10/100\n",
      "26/26 [==============================] - 4s 159ms/step - loss: 1.0610 - accuracy: 0.6098 - val_loss: 0.8833 - val_accuracy: 0.7532\n",
      "Epoch 11/100\n",
      "26/26 [==============================] - 4s 160ms/step - loss: 1.1584 - accuracy: 0.5718 - val_loss: 0.8869 - val_accuracy: 0.7532\n",
      "Epoch 12/100\n",
      "26/26 [==============================] - 4s 160ms/step - loss: 1.1601 - accuracy: 0.5988 - val_loss: 0.8823 - val_accuracy: 0.7532\n",
      "Epoch 13/100\n",
      "26/26 [==============================] - 4s 164ms/step - loss: 1.1093 - accuracy: 0.5890 - val_loss: 0.8769 - val_accuracy: 0.7532\n",
      "Epoch 14/100\n",
      "26/26 [==============================] - 4s 161ms/step - loss: 1.1332 - accuracy: 0.5755 - val_loss: 0.8823 - val_accuracy: 0.7532\n",
      "Epoch 15/100\n",
      "26/26 [==============================] - 4s 164ms/step - loss: 1.1373 - accuracy: 0.5718 - val_loss: 0.8888 - val_accuracy: 0.7792\n",
      "Epoch 16/100\n",
      "26/26 [==============================] - 4s 163ms/step - loss: 1.1760 - accuracy: 0.5632 - val_loss: 0.8872 - val_accuracy: 0.7403\n",
      "Epoch 17/100\n",
      "26/26 [==============================] - 4s 169ms/step - loss: 1.1436 - accuracy: 0.5718 - val_loss: 0.8820 - val_accuracy: 0.7403\n",
      "Epoch 18/100\n",
      "26/26 [==============================] - 5s 196ms/step - loss: 1.1224 - accuracy: 0.6025 - val_loss: 0.8868 - val_accuracy: 0.7532\n",
      "Epoch 19/100\n",
      "26/26 [==============================] - 4s 156ms/step - loss: 1.1413 - accuracy: 0.5828 - val_loss: 0.8859 - val_accuracy: 0.7403\n",
      "Epoch 20/100\n",
      "26/26 [==============================] - 4s 167ms/step - loss: 1.0966 - accuracy: 0.5816 - val_loss: 0.8840 - val_accuracy: 0.7403\n",
      "Epoch 21/100\n",
      "26/26 [==============================] - 4s 154ms/step - loss: 1.1211 - accuracy: 0.5804 - val_loss: 0.8836 - val_accuracy: 0.7532\n",
      "Epoch 22/100\n",
      "26/26 [==============================] - 4s 164ms/step - loss: 1.1346 - accuracy: 0.5620 - val_loss: 0.8809 - val_accuracy: 0.7532\n",
      "Epoch 23/100\n",
      "26/26 [==============================] - 4s 172ms/step - loss: 1.1309 - accuracy: 0.5914 - val_loss: 0.8881 - val_accuracy: 0.7532\n",
      "Epoch 24/100\n",
      "26/26 [==============================] - 4s 153ms/step - loss: 1.1452 - accuracy: 0.6061 - val_loss: 0.8869 - val_accuracy: 0.7532\n",
      "Epoch 25/100\n",
      "26/26 [==============================] - 4s 154ms/step - loss: 1.1201 - accuracy: 0.5939 - val_loss: 0.8930 - val_accuracy: 0.7403\n",
      "Epoch 26/100\n",
      "26/26 [==============================] - 5s 186ms/step - loss: 1.1410 - accuracy: 0.5706 - val_loss: 0.8958 - val_accuracy: 0.7403\n",
      "Epoch 27/100\n",
      "26/26 [==============================] - 5s 175ms/step - loss: 1.0652 - accuracy: 0.6135 - val_loss: 0.8884 - val_accuracy: 0.7403\n",
      "Epoch 28/100\n",
      "26/26 [==============================] - 4s 163ms/step - loss: 1.0868 - accuracy: 0.6061 - val_loss: 0.8885 - val_accuracy: 0.7403\n",
      "Epoch 29/100\n",
      "26/26 [==============================] - 4s 163ms/step - loss: 1.1132 - accuracy: 0.6000 - val_loss: 0.8927 - val_accuracy: 0.7403\n",
      "Epoch 30/100\n",
      "26/26 [==============================] - 4s 156ms/step - loss: 1.0733 - accuracy: 0.6000 - val_loss: 0.8931 - val_accuracy: 0.7403\n",
      "Epoch 31/100\n",
      "26/26 [==============================] - 4s 154ms/step - loss: 1.0518 - accuracy: 0.5951 - val_loss: 0.8918 - val_accuracy: 0.7403\n",
      "Epoch 32/100\n",
      "26/26 [==============================] - 4s 159ms/step - loss: 1.1300 - accuracy: 0.5730 - val_loss: 0.8867 - val_accuracy: 0.7403\n",
      "Epoch 33/100\n",
      "26/26 [==============================] - 4s 165ms/step - loss: 1.1038 - accuracy: 0.6000 - val_loss: 0.8863 - val_accuracy: 0.7403\n",
      "Epoch 34/100\n",
      "26/26 [==============================] - 4s 151ms/step - loss: 1.0258 - accuracy: 0.5975 - val_loss: 0.8868 - val_accuracy: 0.7403\n",
      "Epoch 35/100\n",
      "26/26 [==============================] - 4s 155ms/step - loss: 1.1602 - accuracy: 0.5632 - val_loss: 0.8872 - val_accuracy: 0.7532\n",
      "Epoch 36/100\n",
      "26/26 [==============================] - 4s 151ms/step - loss: 1.1025 - accuracy: 0.5939 - val_loss: 0.8816 - val_accuracy: 0.7532\n",
      "Epoch 37/100\n",
      "26/26 [==============================] - 4s 163ms/step - loss: 1.0760 - accuracy: 0.5865 - val_loss: 0.8801 - val_accuracy: 0.7403\n",
      "Epoch 38/100\n",
      "26/26 [==============================] - 4s 163ms/step - loss: 1.0638 - accuracy: 0.5951 - val_loss: 0.8796 - val_accuracy: 0.7403\n",
      "Epoch 39/100\n",
      "26/26 [==============================] - 4s 156ms/step - loss: 1.0851 - accuracy: 0.5828 - val_loss: 0.8768 - val_accuracy: 0.7403\n",
      "Epoch 40/100\n",
      "26/26 [==============================] - 4s 159ms/step - loss: 1.0878 - accuracy: 0.5840 - val_loss: 0.8748 - val_accuracy: 0.7532\n",
      "Epoch 41/100\n",
      "26/26 [==============================] - 4s 164ms/step - loss: 1.0745 - accuracy: 0.5840 - val_loss: 0.8819 - val_accuracy: 0.7403\n",
      "Epoch 42/100\n",
      "26/26 [==============================] - 4s 155ms/step - loss: 1.0381 - accuracy: 0.5951 - val_loss: 0.8832 - val_accuracy: 0.7532\n",
      "Epoch 43/100\n",
      "26/26 [==============================] - 4s 158ms/step - loss: 1.0664 - accuracy: 0.5988 - val_loss: 0.8833 - val_accuracy: 0.7403\n",
      "Epoch 44/100\n",
      "26/26 [==============================] - 4s 155ms/step - loss: 1.0604 - accuracy: 0.6049 - val_loss: 0.8787 - val_accuracy: 0.7403\n",
      "Epoch 45/100\n",
      "26/26 [==============================] - 4s 165ms/step - loss: 1.0856 - accuracy: 0.6061 - val_loss: 0.8831 - val_accuracy: 0.7532\n",
      "Epoch 46/100\n",
      "26/26 [==============================] - 4s 156ms/step - loss: 1.0690 - accuracy: 0.6037 - val_loss: 0.8850 - val_accuracy: 0.7532\n",
      "Epoch 47/100\n",
      "26/26 [==============================] - 4s 153ms/step - loss: 1.0789 - accuracy: 0.6012 - val_loss: 0.8793 - val_accuracy: 0.7532\n",
      "Epoch 48/100\n",
      "26/26 [==============================] - 5s 177ms/step - loss: 1.0644 - accuracy: 0.6061 - val_loss: 0.8792 - val_accuracy: 0.7403\n",
      "Epoch 49/100\n",
      "26/26 [==============================] - 5s 177ms/step - loss: 1.0202 - accuracy: 0.6086 - val_loss: 0.8733 - val_accuracy: 0.7403\n",
      "Epoch 50/100\n",
      "26/26 [==============================] - 4s 165ms/step - loss: 1.0415 - accuracy: 0.6135 - val_loss: 0.8712 - val_accuracy: 0.7403\n",
      "Epoch 51/100\n",
      "26/26 [==============================] - 5s 180ms/step - loss: 1.0352 - accuracy: 0.6270 - val_loss: 0.8705 - val_accuracy: 0.7532\n",
      "Epoch 52/100\n",
      "26/26 [==============================] - 4s 170ms/step - loss: 1.0642 - accuracy: 0.6037 - val_loss: 0.8806 - val_accuracy: 0.7403\n",
      "Epoch 53/100\n",
      "26/26 [==============================] - 4s 164ms/step - loss: 0.9921 - accuracy: 0.6294 - val_loss: 0.8831 - val_accuracy: 0.7403\n",
      "Epoch 54/100\n",
      "26/26 [==============================] - 4s 157ms/step - loss: 1.0330 - accuracy: 0.6000 - val_loss: 0.8771 - val_accuracy: 0.7403\n",
      "Epoch 55/100\n",
      "26/26 [==============================] - 4s 158ms/step - loss: 1.0255 - accuracy: 0.6000 - val_loss: 0.8843 - val_accuracy: 0.7403\n",
      "Epoch 56/100\n",
      "26/26 [==============================] - 4s 163ms/step - loss: 1.0543 - accuracy: 0.6196 - val_loss: 0.8869 - val_accuracy: 0.7403\n",
      "Epoch 57/100\n",
      "26/26 [==============================] - 4s 168ms/step - loss: 1.0204 - accuracy: 0.6160 - val_loss: 0.8813 - val_accuracy: 0.7403\n"
     ]
    },
    {
     "name": "stdout",
     "output_type": "stream",
     "text": [
      "Epoch 58/100\n",
      "26/26 [==============================] - 5s 177ms/step - loss: 1.0709 - accuracy: 0.5865 - val_loss: 0.8774 - val_accuracy: 0.7403\n",
      "Epoch 59/100\n",
      "26/26 [==============================] - 4s 159ms/step - loss: 1.0349 - accuracy: 0.6294 - val_loss: 0.8725 - val_accuracy: 0.7532\n",
      "Epoch 60/100\n",
      "26/26 [==============================] - 4s 161ms/step - loss: 1.0181 - accuracy: 0.6172 - val_loss: 0.8696 - val_accuracy: 0.7532\n",
      "Epoch 61/100\n",
      "26/26 [==============================] - 4s 153ms/step - loss: 1.0003 - accuracy: 0.6307 - val_loss: 0.8713 - val_accuracy: 0.7403\n",
      "Epoch 62/100\n",
      "26/26 [==============================] - 4s 162ms/step - loss: 1.0251 - accuracy: 0.6160 - val_loss: 0.8762 - val_accuracy: 0.7403\n",
      "Epoch 63/100\n",
      "26/26 [==============================] - 4s 160ms/step - loss: 1.0469 - accuracy: 0.5816 - val_loss: 0.8772 - val_accuracy: 0.7532\n",
      "Epoch 64/100\n",
      "26/26 [==============================] - 4s 155ms/step - loss: 1.0078 - accuracy: 0.6393 - val_loss: 0.8780 - val_accuracy: 0.7403\n",
      "Epoch 65/100\n",
      "26/26 [==============================] - 4s 153ms/step - loss: 1.0159 - accuracy: 0.6307 - val_loss: 0.8801 - val_accuracy: 0.7403\n",
      "Epoch 66/100\n",
      "26/26 [==============================] - 4s 155ms/step - loss: 1.0322 - accuracy: 0.6245 - val_loss: 0.8764 - val_accuracy: 0.7403\n",
      "Epoch 67/100\n",
      "26/26 [==============================] - 4s 162ms/step - loss: 1.0198 - accuracy: 0.6221 - val_loss: 0.8845 - val_accuracy: 0.7403\n",
      "Epoch 68/100\n",
      "26/26 [==============================] - 4s 156ms/step - loss: 0.9915 - accuracy: 0.6331 - val_loss: 0.8910 - val_accuracy: 0.7403\n",
      "Epoch 69/100\n",
      "26/26 [==============================] - 4s 153ms/step - loss: 1.0097 - accuracy: 0.6233 - val_loss: 0.8887 - val_accuracy: 0.7403\n",
      "Epoch 70/100\n",
      "26/26 [==============================] - 4s 155ms/step - loss: 1.0333 - accuracy: 0.6098 - val_loss: 0.8819 - val_accuracy: 0.7403\n",
      "Epoch 71/100\n",
      "26/26 [==============================] - 4s 160ms/step - loss: 0.9685 - accuracy: 0.6344 - val_loss: 0.8817 - val_accuracy: 0.7532\n",
      "Epoch 72/100\n",
      "26/26 [==============================] - 4s 156ms/step - loss: 1.0029 - accuracy: 0.6147 - val_loss: 0.8798 - val_accuracy: 0.7532\n",
      "Epoch 73/100\n",
      "26/26 [==============================] - 4s 152ms/step - loss: 1.0070 - accuracy: 0.6098 - val_loss: 0.8782 - val_accuracy: 0.7532\n",
      "Epoch 74/100\n",
      "26/26 [==============================] - 4s 157ms/step - loss: 1.0294 - accuracy: 0.5853 - val_loss: 0.8848 - val_accuracy: 0.7532\n",
      "Epoch 75/100\n",
      "26/26 [==============================] - 5s 189ms/step - loss: 1.0280 - accuracy: 0.6221 - val_loss: 0.8836 - val_accuracy: 0.7532\n",
      "Epoch 76/100\n",
      "26/26 [==============================] - 4s 160ms/step - loss: 0.9789 - accuracy: 0.6368 - val_loss: 0.8805 - val_accuracy: 0.7532\n",
      "Epoch 77/100\n",
      "26/26 [==============================] - 4s 155ms/step - loss: 0.9742 - accuracy: 0.6442 - val_loss: 0.8794 - val_accuracy: 0.7532\n",
      "Epoch 78/100\n",
      "26/26 [==============================] - 4s 159ms/step - loss: 1.0200 - accuracy: 0.6000 - val_loss: 0.8817 - val_accuracy: 0.7532\n",
      "Epoch 79/100\n",
      "26/26 [==============================] - 4s 164ms/step - loss: 0.9904 - accuracy: 0.6417 - val_loss: 0.8926 - val_accuracy: 0.7532\n",
      "Epoch 80/100\n",
      "26/26 [==============================] - 4s 171ms/step - loss: 0.9913 - accuracy: 0.6282 - val_loss: 0.8801 - val_accuracy: 0.7532\n",
      "Epoch 81/100\n",
      "26/26 [==============================] - 4s 169ms/step - loss: 0.9657 - accuracy: 0.6258 - val_loss: 0.8791 - val_accuracy: 0.7403\n",
      "Epoch 82/100\n",
      "26/26 [==============================] - 4s 162ms/step - loss: 0.9863 - accuracy: 0.6491 - val_loss: 0.8748 - val_accuracy: 0.7403\n",
      "Epoch 83/100\n",
      "26/26 [==============================] - 4s 162ms/step - loss: 0.9826 - accuracy: 0.6061 - val_loss: 0.8789 - val_accuracy: 0.7403\n",
      "Epoch 84/100\n",
      "26/26 [==============================] - 4s 155ms/step - loss: 0.9818 - accuracy: 0.6160 - val_loss: 0.8856 - val_accuracy: 0.7403\n",
      "Epoch 85/100\n",
      "26/26 [==============================] - 4s 155ms/step - loss: 0.9482 - accuracy: 0.6344 - val_loss: 0.8750 - val_accuracy: 0.7532\n",
      "Epoch 86/100\n",
      "26/26 [==============================] - 4s 155ms/step - loss: 0.9515 - accuracy: 0.6282 - val_loss: 0.8742 - val_accuracy: 0.7532\n",
      "Epoch 87/100\n",
      "26/26 [==============================] - 4s 162ms/step - loss: 0.9730 - accuracy: 0.6258 - val_loss: 0.8776 - val_accuracy: 0.7532\n",
      "Epoch 88/100\n",
      "26/26 [==============================] - 4s 162ms/step - loss: 1.0054 - accuracy: 0.6282 - val_loss: 0.8728 - val_accuracy: 0.7532\n",
      "Epoch 89/100\n",
      "26/26 [==============================] - 4s 162ms/step - loss: 1.0010 - accuracy: 0.6172 - val_loss: 0.8633 - val_accuracy: 0.7532\n",
      "Epoch 90/100\n",
      "26/26 [==============================] - 4s 163ms/step - loss: 0.9467 - accuracy: 0.6491 - val_loss: 0.8659 - val_accuracy: 0.7532\n",
      "Epoch 91/100\n",
      "26/26 [==============================] - 4s 160ms/step - loss: 0.9849 - accuracy: 0.6086 - val_loss: 0.8768 - val_accuracy: 0.7403\n",
      "Epoch 92/100\n",
      "26/26 [==============================] - 4s 154ms/step - loss: 0.9438 - accuracy: 0.6466 - val_loss: 0.8766 - val_accuracy: 0.7662\n",
      "Epoch 93/100\n",
      "26/26 [==============================] - 4s 159ms/step - loss: 0.9301 - accuracy: 0.6515 - val_loss: 0.8760 - val_accuracy: 0.7532\n",
      "Epoch 94/100\n",
      "26/26 [==============================] - 4s 159ms/step - loss: 0.9821 - accuracy: 0.6466 - val_loss: 0.8860 - val_accuracy: 0.7532\n",
      "Epoch 95/100\n",
      "26/26 [==============================] - 4s 157ms/step - loss: 0.9616 - accuracy: 0.6172 - val_loss: 0.8725 - val_accuracy: 0.7532\n",
      "Epoch 96/100\n",
      "26/26 [==============================] - 4s 156ms/step - loss: 0.9464 - accuracy: 0.6479 - val_loss: 0.8728 - val_accuracy: 0.7532\n",
      "Epoch 97/100\n",
      "26/26 [==============================] - 4s 158ms/step - loss: 0.9413 - accuracy: 0.6405 - val_loss: 0.8776 - val_accuracy: 0.7403\n",
      "Epoch 98/100\n",
      "26/26 [==============================] - 4s 160ms/step - loss: 0.9681 - accuracy: 0.6344 - val_loss: 0.8761 - val_accuracy: 0.7532\n",
      "Epoch 99/100\n",
      "26/26 [==============================] - 4s 159ms/step - loss: 0.9603 - accuracy: 0.6282 - val_loss: 0.8818 - val_accuracy: 0.7532\n",
      "Epoch 100/100\n",
      "26/26 [==============================] - 4s 159ms/step - loss: 1.0241 - accuracy: 0.6245 - val_loss: 0.8849 - val_accuracy: 0.7532\n",
      "4/4 [==============================] - 0s 47ms/step - loss: 0.7003 - accuracy: 0.7526\n"
     ]
    },
    {
     "data": {
      "image/png": "[encoded data removed]",
      "text/plain": [
       "<Figure size 432x288 with 1 Axes>"
      ]
     },
     "metadata": {
      "needs_background": "light"
     },
     "output_type": "display_data"
    },
    {
     "name": "stdout",
     "output_type": "stream",
     "text": [
      "4/4 [==============================] - 0s 35ms/step\n",
      "              precision    recall  f1-score   support\n",
      "\n",
      "      arabic       0.75      0.80      0.77        15\n",
      "     english       0.92      0.87      0.89        52\n",
      "      french       0.60      0.50      0.55         6\n",
      "    mandarin       1.00      0.57      0.73         7\n",
      "     spanish       0.39      0.53      0.45        17\n",
      "\n",
      "    accuracy                           0.75        97\n",
      "   macro avg       0.73      0.65      0.68        97\n",
      "weighted avg       0.79      0.75      0.76        97\n",
      "\n",
      "[[12  0  1  0  2]\n",
      " [ 0 45  0  0  7]\n",
      " [ 1  0  3  0  2]\n",
      " [ 0  0  0  4  3]\n",
      " [ 3  4  1  0  9]]\n"
     ]
    }
   ],
   "source": [
    "model.compile(optimizer=Adam(learning_rate=0.000001), loss='categorical_crossentropy', metrics=['accuracy'])\n",
    "\n",
    "# train on cluster0\n",
    "model.load_weights('weights/weights.hdf5')  # load weights from original model\n",
    "checkpoint = ModelCheckpoint('weights/weights0.hdf5', monitor='val_loss', save_best_only=True)\n",
    "history = model.fit(X0_train, y0_train, epochs=epochs, callbacks=[checkpoint], shuffle=True, validation_data=(X0_val, y0_val))\n",
    "model.load_weights('weights/weights0.hdf5')\n",
    "model.evaluate(X0_test, y0_test)\n",
    "\n",
    "# plot loss\n",
    "plt.plot(range(1, epochs+1), history.history['loss'], label='train')\n",
    "plt.plot(range(1, epochs+1), history.history['val_loss'], label='validation')\n",
    "plt.title('Loss for First Cluster Model')\n",
    "plt.legend()\n",
    "plt.show()\n",
    "\n",
    "# test metrics and confidence matrix\n",
    "y_pred = np.argmax(model.predict(X0_test), axis=1)\n",
    "y_labels = np.argmax(y0_test, axis=1)\n",
    "print(classification_report(y_labels, y_pred, target_names=le.classes_.tolist()))\n",
    "print(confusion_matrix(y_labels, y_pred))"
   ]
  },
  {
   "cell_type": "code",
   "execution_count": 26,
   "id": "8ec90742",
   "metadata": {},
   "outputs": [
    {
     "data": {
      "image/png": "[encoded data removed]",
      "text/plain": [
       "<Figure size 432x288 with 1 Axes>"
      ]
     },
     "metadata": {
      "needs_background": "light"
     },
     "output_type": "display_data"
    }
   ],
   "source": [
    "plt.plot(range(1, epochs+1), history.history['accuracy'], label='train')\n",
    "plt.plot(range(1, epochs+1), history.history['val_accuracy'], label='validation')\n",
    "plt.title('Accuracy for First Cluster Model')\n",
    "plt.legend()\n",
    "plt.show()"
   ]
  },
  {
   "cell_type": "code",
   "execution_count": 27,
   "id": "0c1fe639",
   "metadata": {},
   "outputs": [
    {
     "name": "stdout",
     "output_type": "stream",
     "text": [
      "Model: \"sequential_2\"\n",
      "_________________________________________________________________\n",
      " Layer (type)                Output Shape              Param #   \n",
      "=================================================================\n",
      " conv2d_8 (Conv2D)           (None, 20, 515, 16)       160       \n",
      "                                                                 \n",
      " leaky_re_lu_12 (LeakyReLU)  (None, 20, 515, 16)       0         \n",
      "                                                                 \n",
      " max_pooling2d_8 (MaxPooling  (None, 10, 257, 16)      0         \n",
      " 2D)                                                             \n",
      "                                                                 \n",
      " conv2d_9 (Conv2D)           (None, 10, 257, 32)       4640      \n",
      "                                                                 \n",
      " leaky_re_lu_13 (LeakyReLU)  (None, 10, 257, 32)       0         \n",
      "                                                                 \n",
      " max_pooling2d_9 (MaxPooling  (None, 5, 128, 32)       0         \n",
      " 2D)                                                             \n",
      "                                                                 \n",
      " conv2d_10 (Conv2D)          (None, 5, 128, 64)        18496     \n",
      "                                                                 \n",
      " leaky_re_lu_14 (LeakyReLU)  (None, 5, 128, 64)        0         \n",
      "                                                                 \n",
      " max_pooling2d_10 (MaxPoolin  (None, 2, 64, 64)        0         \n",
      " g2D)                                                            \n",
      "                                                                 \n",
      " conv2d_11 (Conv2D)          (None, 2, 64, 128)        73856     \n",
      "                                                                 \n",
      " leaky_re_lu_15 (LeakyReLU)  (None, 2, 64, 128)        0         \n",
      "                                                                 \n",
      " max_pooling2d_11 (MaxPoolin  (None, 1, 32, 128)       0         \n",
      " g2D)                                                            \n",
      "                                                                 \n",
      " flatten_2 (Flatten)         (None, 4096)              0         \n",
      "                                                                 \n",
      " dense_6 (Dense)             (None, 64)                262208    \n",
      "                                                                 \n",
      " leaky_re_lu_16 (LeakyReLU)  (None, 64)                0         \n",
      "                                                                 \n",
      " dropout_4 (Dropout)         (None, 64)                0         \n",
      "                                                                 \n",
      " dense_7 (Dense)             (None, 32)                2080      \n",
      "                                                                 \n",
      " leaky_re_lu_17 (LeakyReLU)  (None, 32)                0         \n",
      "                                                                 \n",
      " dropout_5 (Dropout)         (None, 32)                0         \n",
      "                                                                 \n",
      " dense_8 (Dense)             (None, 5)                 165       \n",
      "                                                                 \n",
      "=================================================================\n",
      "Total params: 361,605\n",
      "Trainable params: 361,605\n",
      "Non-trainable params: 0\n",
      "_________________________________________________________________\n",
      "None\n"
     ]
    }
   ],
   "source": [
    "input_shape = X_train.shape[1:]\n",
    "kernel_size=3\n",
    "\n",
    "# define network\n",
    "model = Sequential()\n",
    "model.add(Conv2D(16, kernel_size=kernel_size, padding='same', input_shape=input_shape))\n",
    "model.add(LeakyReLU())\n",
    "model.add(MaxPool2D())\n",
    "model.add(Conv2D(32, kernel_size=kernel_size, padding='same'))\n",
    "model.add(LeakyReLU())\n",
    "model.add(MaxPool2D())\n",
    "model.add(Conv2D(64, kernel_size=kernel_size, padding='same'))\n",
    "model.add(LeakyReLU())\n",
    "model.add(MaxPool2D())\n",
    "model.add(Conv2D(128, kernel_size=kernel_size, padding='same'))\n",
    "model.add(LeakyReLU())\n",
    "model.add(MaxPool2D())\n",
    "model.add(Flatten())\n",
    "model.add(Dense(64))\n",
    "model.add(LeakyReLU())\n",
    "model.add(Dropout(0.5))\n",
    "model.add(Dense(32))\n",
    "model.add(LeakyReLU())\n",
    "model.add(Dropout(0.5))\n",
    "model.add(Dense(n_classes, activation='softmax'))\n",
    "\n",
    "print(model.summary())"
   ]
  },
  {
   "cell_type": "code",
   "execution_count": 28,
   "id": "2edd7c8f",
   "metadata": {
    "scrolled": true
   },
   "outputs": [
    {
     "name": "stdout",
     "output_type": "stream",
     "text": [
      "Epoch 1/100\n",
      "33/33 [==============================] - 7s 169ms/step - loss: 1.5910 - accuracy: 0.4058 - val_loss: 0.8460 - val_accuracy: 0.7342\n",
      "Epoch 2/100\n",
      "33/33 [==============================] - 5s 153ms/step - loss: 1.5124 - accuracy: 0.4437 - val_loss: 0.9180 - val_accuracy: 0.6709\n",
      "Epoch 3/100\n",
      "33/33 [==============================] - 5s 162ms/step - loss: 1.4809 - accuracy: 0.4252 - val_loss: 0.9455 - val_accuracy: 0.6582\n",
      "Epoch 4/100\n",
      "33/33 [==============================] - 5s 153ms/step - loss: 1.4578 - accuracy: 0.4291 - val_loss: 0.9907 - val_accuracy: 0.6329\n",
      "Epoch 5/100\n",
      "33/33 [==============================] - 5s 162ms/step - loss: 1.4117 - accuracy: 0.4447 - val_loss: 0.9868 - val_accuracy: 0.6329\n",
      "Epoch 6/100\n",
      "33/33 [==============================] - 6s 176ms/step - loss: 1.4156 - accuracy: 0.4427 - val_loss: 0.9695 - val_accuracy: 0.6456\n",
      "Epoch 7/100\n",
      "33/33 [==============================] - 5s 166ms/step - loss: 1.3849 - accuracy: 0.4699 - val_loss: 0.9788 - val_accuracy: 0.6456\n",
      "Epoch 8/100\n",
      "33/33 [==============================] - 1456s 45s/step - loss: 1.3959 - accuracy: 0.4515 - val_loss: 0.9862 - val_accuracy: 0.6329\n",
      "Epoch 9/100\n",
      "33/33 [==============================] - 5s 155ms/step - loss: 1.3737 - accuracy: 0.4689 - val_loss: 0.9773 - val_accuracy: 0.6329\n",
      "Epoch 10/100\n",
      "33/33 [==============================] - 4s 124ms/step - loss: 1.3505 - accuracy: 0.4786 - val_loss: 1.0019 - val_accuracy: 0.5949\n",
      "Epoch 11/100\n",
      "33/33 [==============================] - 4s 120ms/step - loss: 1.3909 - accuracy: 0.4447 - val_loss: 1.0115 - val_accuracy: 0.5949\n",
      "Epoch 12/100\n",
      "33/33 [==============================] - 5s 155ms/step - loss: 1.4035 - accuracy: 0.4563 - val_loss: 0.9920 - val_accuracy: 0.6203\n",
      "Epoch 13/100\n",
      "33/33 [==============================] - 5s 163ms/step - loss: 1.3363 - accuracy: 0.4796 - val_loss: 1.0094 - val_accuracy: 0.6076\n",
      "Epoch 14/100\n",
      "33/33 [==============================] - 5s 166ms/step - loss: 1.3683 - accuracy: 0.4835 - val_loss: 0.9937 - val_accuracy: 0.6329\n",
      "Epoch 15/100\n",
      "33/33 [==============================] - 5s 155ms/step - loss: 1.3486 - accuracy: 0.4534 - val_loss: 1.0029 - val_accuracy: 0.6203\n",
      "Epoch 16/100\n",
      "33/33 [==============================] - 5s 152ms/step - loss: 1.3347 - accuracy: 0.4612 - val_loss: 1.0009 - val_accuracy: 0.6203\n",
      "Epoch 17/100\n",
      "33/33 [==============================] - 5s 158ms/step - loss: 1.3273 - accuracy: 0.4816 - val_loss: 0.9851 - val_accuracy: 0.6456\n",
      "Epoch 18/100\n",
      "33/33 [==============================] - 5s 148ms/step - loss: 1.3117 - accuracy: 0.5010 - val_loss: 0.9955 - val_accuracy: 0.6329\n",
      "Epoch 19/100\n",
      "33/33 [==============================] - 5s 143ms/step - loss: 1.3219 - accuracy: 0.4612 - val_loss: 0.9949 - val_accuracy: 0.6456\n",
      "Epoch 20/100\n",
      "33/33 [==============================] - 5s 148ms/step - loss: 1.3222 - accuracy: 0.4971 - val_loss: 1.0198 - val_accuracy: 0.6076\n",
      "Epoch 21/100\n",
      "33/33 [==============================] - 5s 160ms/step - loss: 1.3345 - accuracy: 0.4825 - val_loss: 1.0243 - val_accuracy: 0.6076\n",
      "Epoch 22/100\n",
      "33/33 [==============================] - 5s 142ms/step - loss: 1.3000 - accuracy: 0.4738 - val_loss: 0.9951 - val_accuracy: 0.6582\n",
      "Epoch 23/100\n",
      "33/33 [==============================] - 5s 154ms/step - loss: 1.3633 - accuracy: 0.4650 - val_loss: 1.0018 - val_accuracy: 0.6329\n",
      "Epoch 24/100\n",
      "33/33 [==============================] - 5s 146ms/step - loss: 1.3466 - accuracy: 0.4903 - val_loss: 0.9922 - val_accuracy: 0.6582\n",
      "Epoch 25/100\n",
      "33/33 [==============================] - 5s 139ms/step - loss: 1.2994 - accuracy: 0.4835 - val_loss: 1.0005 - val_accuracy: 0.6329\n",
      "Epoch 26/100\n",
      "33/33 [==============================] - 5s 141ms/step - loss: 1.3193 - accuracy: 0.4922 - val_loss: 1.0014 - val_accuracy: 0.6203\n",
      "Epoch 27/100\n",
      "33/33 [==============================] - 5s 140ms/step - loss: 1.3059 - accuracy: 0.4922 - val_loss: 1.0057 - val_accuracy: 0.6076\n",
      "Epoch 28/100\n",
      "33/33 [==============================] - 5s 138ms/step - loss: 1.3478 - accuracy: 0.4864 - val_loss: 0.9888 - val_accuracy: 0.6456\n",
      "Epoch 29/100\n",
      "33/33 [==============================] - 5s 137ms/step - loss: 1.2881 - accuracy: 0.5049 - val_loss: 0.9835 - val_accuracy: 0.6329\n",
      "Epoch 30/100\n",
      "33/33 [==============================] - 5s 138ms/step - loss: 1.2946 - accuracy: 0.5097 - val_loss: 0.9843 - val_accuracy: 0.6456\n",
      "Epoch 31/100\n",
      "33/33 [==============================] - 4s 132ms/step - loss: 1.2877 - accuracy: 0.5175 - val_loss: 1.0064 - val_accuracy: 0.6456\n",
      "Epoch 32/100\n",
      "33/33 [==============================] - 4s 133ms/step - loss: 1.2665 - accuracy: 0.4913 - val_loss: 0.9912 - val_accuracy: 0.6329\n",
      "Epoch 33/100\n",
      "33/33 [==============================] - 4s 136ms/step - loss: 1.3219 - accuracy: 0.4903 - val_loss: 0.9769 - val_accuracy: 0.6582\n",
      "Epoch 34/100\n",
      "33/33 [==============================] - 4s 136ms/step - loss: 1.2356 - accuracy: 0.4951 - val_loss: 0.9938 - val_accuracy: 0.6329\n",
      "Epoch 35/100\n",
      "33/33 [==============================] - 5s 141ms/step - loss: 1.3141 - accuracy: 0.4864 - val_loss: 1.0239 - val_accuracy: 0.6329\n",
      "Epoch 36/100\n",
      "33/33 [==============================] - 4s 129ms/step - loss: 1.2623 - accuracy: 0.5068 - val_loss: 1.0134 - val_accuracy: 0.6456\n",
      "Epoch 37/100\n",
      "33/33 [==============================] - 4s 131ms/step - loss: 1.2845 - accuracy: 0.4893 - val_loss: 1.0164 - val_accuracy: 0.6456\n",
      "Epoch 38/100\n",
      "33/33 [==============================] - 4s 129ms/step - loss: 1.3049 - accuracy: 0.4932 - val_loss: 1.0218 - val_accuracy: 0.6329\n",
      "Epoch 39/100\n",
      "33/33 [==============================] - 4s 130ms/step - loss: 1.2406 - accuracy: 0.5233 - val_loss: 1.0019 - val_accuracy: 0.6456\n",
      "Epoch 40/100\n",
      "33/33 [==============================] - 4s 129ms/step - loss: 1.2211 - accuracy: 0.5175 - val_loss: 1.0079 - val_accuracy: 0.6456\n",
      "Epoch 41/100\n",
      "33/33 [==============================] - 4s 130ms/step - loss: 1.2494 - accuracy: 0.5233 - val_loss: 1.0214 - val_accuracy: 0.6329\n",
      "Epoch 42/100\n",
      "33/33 [==============================] - 4s 129ms/step - loss: 1.2786 - accuracy: 0.5068 - val_loss: 1.0098 - val_accuracy: 0.6456\n",
      "Epoch 43/100\n",
      "33/33 [==============================] - 4s 129ms/step - loss: 1.2335 - accuracy: 0.5117 - val_loss: 0.9953 - val_accuracy: 0.6456\n",
      "Epoch 44/100\n",
      "33/33 [==============================] - 4s 133ms/step - loss: 1.2397 - accuracy: 0.5184 - val_loss: 1.0084 - val_accuracy: 0.6456\n",
      "Epoch 45/100\n",
      "33/33 [==============================] - 4s 127ms/step - loss: 1.2434 - accuracy: 0.5146 - val_loss: 1.0138 - val_accuracy: 0.6456\n",
      "Epoch 46/100\n",
      "33/33 [==============================] - 4s 126ms/step - loss: 1.2264 - accuracy: 0.5388 - val_loss: 1.0284 - val_accuracy: 0.6329\n",
      "Epoch 47/100\n",
      "33/33 [==============================] - 4s 128ms/step - loss: 1.2338 - accuracy: 0.5291 - val_loss: 1.0111 - val_accuracy: 0.6456\n",
      "Epoch 48/100\n",
      "33/33 [==============================] - 5s 138ms/step - loss: 1.2451 - accuracy: 0.5350 - val_loss: 1.0272 - val_accuracy: 0.6329\n",
      "Epoch 49/100\n",
      "33/33 [==============================] - 4s 133ms/step - loss: 1.2157 - accuracy: 0.5078 - val_loss: 1.0131 - val_accuracy: 0.6329\n",
      "Epoch 50/100\n",
      "33/33 [==============================] - 4s 129ms/step - loss: 1.2455 - accuracy: 0.5243 - val_loss: 1.0066 - val_accuracy: 0.6329\n",
      "Epoch 51/100\n",
      "33/33 [==============================] - 4s 129ms/step - loss: 1.2629 - accuracy: 0.5204 - val_loss: 0.9954 - val_accuracy: 0.6456\n",
      "Epoch 52/100\n",
      "33/33 [==============================] - 4s 134ms/step - loss: 1.2284 - accuracy: 0.5175 - val_loss: 0.9859 - val_accuracy: 0.6456\n",
      "Epoch 53/100\n",
      "33/33 [==============================] - 4s 127ms/step - loss: 1.1995 - accuracy: 0.5350 - val_loss: 1.0030 - val_accuracy: 0.6456\n",
      "Epoch 54/100\n",
      "33/33 [==============================] - 4s 128ms/step - loss: 1.2170 - accuracy: 0.5301 - val_loss: 1.0134 - val_accuracy: 0.6456\n",
      "Epoch 55/100\n",
      "33/33 [==============================] - 4s 126ms/step - loss: 1.1902 - accuracy: 0.5553 - val_loss: 1.0039 - val_accuracy: 0.6329\n",
      "Epoch 56/100\n",
      "33/33 [==============================] - 4s 131ms/step - loss: 1.2354 - accuracy: 0.5282 - val_loss: 0.9998 - val_accuracy: 0.6456\n",
      "Epoch 57/100\n",
      "33/33 [==============================] - 4s 123ms/step - loss: 1.1822 - accuracy: 0.5311 - val_loss: 0.9879 - val_accuracy: 0.6582\n"
     ]
    },
    {
     "name": "stdout",
     "output_type": "stream",
     "text": [
      "Epoch 58/100\n",
      "33/33 [==============================] - 4s 122ms/step - loss: 1.1623 - accuracy: 0.5485 - val_loss: 0.9963 - val_accuracy: 0.6456\n",
      "Epoch 59/100\n",
      "33/33 [==============================] - 4s 125ms/step - loss: 1.2081 - accuracy: 0.5262 - val_loss: 0.9951 - val_accuracy: 0.6456\n",
      "Epoch 60/100\n",
      "33/33 [==============================] - 4s 128ms/step - loss: 1.2107 - accuracy: 0.5136 - val_loss: 0.9933 - val_accuracy: 0.6456\n",
      "Epoch 61/100\n",
      "33/33 [==============================] - 4s 126ms/step - loss: 1.1874 - accuracy: 0.5272 - val_loss: 0.9824 - val_accuracy: 0.6582\n",
      "Epoch 62/100\n",
      "33/33 [==============================] - 4s 132ms/step - loss: 1.2152 - accuracy: 0.5223 - val_loss: 0.9971 - val_accuracy: 0.6456\n",
      "Epoch 63/100\n",
      "33/33 [==============================] - 4s 130ms/step - loss: 1.1945 - accuracy: 0.5350 - val_loss: 0.9962 - val_accuracy: 0.6329\n",
      "Epoch 64/100\n",
      "33/33 [==============================] - 4s 128ms/step - loss: 1.1789 - accuracy: 0.5388 - val_loss: 1.0111 - val_accuracy: 0.6456\n",
      "Epoch 65/100\n",
      "33/33 [==============================] - 4s 126ms/step - loss: 1.1631 - accuracy: 0.5417 - val_loss: 1.0122 - val_accuracy: 0.6456\n",
      "Epoch 66/100\n",
      "33/33 [==============================] - 4s 127ms/step - loss: 1.1438 - accuracy: 0.5728 - val_loss: 1.0101 - val_accuracy: 0.6456\n",
      "Epoch 67/100\n",
      "33/33 [==============================] - 4s 129ms/step - loss: 1.1716 - accuracy: 0.5495 - val_loss: 1.0049 - val_accuracy: 0.6582\n",
      "Epoch 68/100\n",
      "33/33 [==============================] - 4s 128ms/step - loss: 1.1598 - accuracy: 0.5544 - val_loss: 1.0035 - val_accuracy: 0.6456\n",
      "Epoch 69/100\n",
      "33/33 [==============================] - 4s 129ms/step - loss: 1.1409 - accuracy: 0.5650 - val_loss: 1.0015 - val_accuracy: 0.6329\n",
      "Epoch 70/100\n",
      "33/33 [==============================] - 4s 127ms/step - loss: 1.1519 - accuracy: 0.5553 - val_loss: 1.0158 - val_accuracy: 0.6329\n",
      "Epoch 71/100\n",
      "33/33 [==============================] - 4s 130ms/step - loss: 1.1226 - accuracy: 0.5718 - val_loss: 1.0087 - val_accuracy: 0.6329\n",
      "Epoch 72/100\n",
      "33/33 [==============================] - 4s 129ms/step - loss: 1.1604 - accuracy: 0.5553 - val_loss: 0.9957 - val_accuracy: 0.6329\n",
      "Epoch 73/100\n",
      "33/33 [==============================] - 4s 131ms/step - loss: 1.1725 - accuracy: 0.5437 - val_loss: 0.9858 - val_accuracy: 0.6582\n",
      "Epoch 74/100\n",
      "33/33 [==============================] - 4s 132ms/step - loss: 1.1340 - accuracy: 0.5660 - val_loss: 0.9889 - val_accuracy: 0.6456\n",
      "Epoch 75/100\n",
      "33/33 [==============================] - 4s 129ms/step - loss: 1.1792 - accuracy: 0.5612 - val_loss: 0.9943 - val_accuracy: 0.6329\n",
      "Epoch 76/100\n",
      "33/33 [==============================] - 5s 137ms/step - loss: 1.1400 - accuracy: 0.5563 - val_loss: 0.9945 - val_accuracy: 0.6456\n",
      "Epoch 77/100\n",
      "33/33 [==============================] - 5s 152ms/step - loss: 1.1838 - accuracy: 0.5515 - val_loss: 0.9849 - val_accuracy: 0.6456\n",
      "Epoch 78/100\n",
      "33/33 [==============================] - 5s 153ms/step - loss: 1.1287 - accuracy: 0.5845 - val_loss: 0.9872 - val_accuracy: 0.6329\n",
      "Epoch 79/100\n",
      "33/33 [==============================] - 5s 141ms/step - loss: 1.1415 - accuracy: 0.5456 - val_loss: 0.9880 - val_accuracy: 0.6329\n",
      "Epoch 80/100\n",
      "33/33 [==============================] - 5s 151ms/step - loss: 1.1621 - accuracy: 0.5680 - val_loss: 0.9906 - val_accuracy: 0.6329\n",
      "Epoch 81/100\n",
      "33/33 [==============================] - 5s 155ms/step - loss: 1.1064 - accuracy: 0.5718 - val_loss: 0.9899 - val_accuracy: 0.6456\n",
      "Epoch 82/100\n",
      "33/33 [==============================] - 5s 155ms/step - loss: 1.1088 - accuracy: 0.5767 - val_loss: 0.9885 - val_accuracy: 0.6329\n",
      "Epoch 83/100\n",
      "33/33 [==============================] - 4s 135ms/step - loss: 1.1402 - accuracy: 0.5544 - val_loss: 0.9897 - val_accuracy: 0.6456\n",
      "Epoch 84/100\n",
      "33/33 [==============================] - 4s 135ms/step - loss: 1.1041 - accuracy: 0.5854 - val_loss: 0.9809 - val_accuracy: 0.6456\n",
      "Epoch 85/100\n",
      "33/33 [==============================] - 5s 138ms/step - loss: 1.0693 - accuracy: 0.5816 - val_loss: 0.9867 - val_accuracy: 0.6329\n",
      "Epoch 86/100\n",
      "33/33 [==============================] - 4s 134ms/step - loss: 1.1189 - accuracy: 0.5796 - val_loss: 0.9983 - val_accuracy: 0.6203\n",
      "Epoch 87/100\n",
      "33/33 [==============================] - 4s 135ms/step - loss: 1.1269 - accuracy: 0.5612 - val_loss: 0.9998 - val_accuracy: 0.6329\n",
      "Epoch 88/100\n",
      "33/33 [==============================] - 4s 136ms/step - loss: 1.0646 - accuracy: 0.6010 - val_loss: 1.0086 - val_accuracy: 0.6329\n",
      "Epoch 89/100\n",
      "33/33 [==============================] - 5s 142ms/step - loss: 1.0948 - accuracy: 0.5699 - val_loss: 0.9953 - val_accuracy: 0.6329\n",
      "Epoch 90/100\n",
      "33/33 [==============================] - 5s 137ms/step - loss: 1.1031 - accuracy: 0.5893 - val_loss: 0.9846 - val_accuracy: 0.6329\n",
      "Epoch 91/100\n",
      "33/33 [==============================] - 4s 135ms/step - loss: 1.0957 - accuracy: 0.5786 - val_loss: 0.9848 - val_accuracy: 0.6329\n",
      "Epoch 92/100\n",
      "33/33 [==============================] - 5s 137ms/step - loss: 1.1024 - accuracy: 0.5709 - val_loss: 1.0005 - val_accuracy: 0.6456\n",
      "Epoch 93/100\n",
      "33/33 [==============================] - 5s 137ms/step - loss: 1.1225 - accuracy: 0.5777 - val_loss: 0.9916 - val_accuracy: 0.6456\n",
      "Epoch 94/100\n",
      "33/33 [==============================] - 4s 137ms/step - loss: 1.1033 - accuracy: 0.5660 - val_loss: 0.9855 - val_accuracy: 0.6329\n",
      "Epoch 95/100\n",
      "33/33 [==============================] - 5s 141ms/step - loss: 1.1063 - accuracy: 0.5602 - val_loss: 0.9798 - val_accuracy: 0.6329\n",
      "Epoch 96/100\n",
      "33/33 [==============================] - 5s 137ms/step - loss: 1.0762 - accuracy: 0.5806 - val_loss: 0.9976 - val_accuracy: 0.6203\n",
      "Epoch 97/100\n",
      "33/33 [==============================] - 5s 139ms/step - loss: 1.0692 - accuracy: 0.5932 - val_loss: 0.9825 - val_accuracy: 0.6203\n",
      "Epoch 98/100\n",
      "33/33 [==============================] - 5s 137ms/step - loss: 1.0857 - accuracy: 0.5903 - val_loss: 0.9712 - val_accuracy: 0.6329\n",
      "Epoch 99/100\n",
      "33/33 [==============================] - 5s 142ms/step - loss: 1.0740 - accuracy: 0.5922 - val_loss: 0.9674 - val_accuracy: 0.6456\n",
      "Epoch 100/100\n",
      "33/33 [==============================] - 5s 137ms/step - loss: 1.1065 - accuracy: 0.5825 - val_loss: 1.0086 - val_accuracy: 0.6329\n",
      "4/4 [==============================] - 0s 33ms/step - loss: 0.8349 - accuracy: 0.7857\n"
     ]
    },
    {
     "data": {
      "image/png": "[encoded data removed]",
      "text/plain": [
       "<Figure size 432x288 with 1 Axes>"
      ]
     },
     "metadata": {
      "needs_background": "light"
     },
     "output_type": "display_data"
    },
    {
     "name": "stdout",
     "output_type": "stream",
     "text": [
      "4/4 [==============================] - 0s 30ms/step\n",
      "              precision    recall  f1-score   support\n",
      "\n",
      "      arabic       0.50      0.20      0.29         5\n",
      "     english       0.87      0.85      0.86        65\n",
      "      french       0.80      0.57      0.67         7\n",
      "    mandarin       0.67      0.80      0.73         5\n",
      "     spanish       0.59      0.81      0.68        16\n",
      "\n",
      "    accuracy                           0.79        98\n",
      "   macro avg       0.69      0.65      0.64        98\n",
      "weighted avg       0.79      0.79      0.78        98\n",
      "\n",
      "[[ 1  3  1  0  0]\n",
      " [ 0 55  0  1  9]\n",
      " [ 0  3  4  0  0]\n",
      " [ 0  1  0  4  0]\n",
      " [ 1  1  0  1 13]]\n"
     ]
    }
   ],
   "source": [
    "model.compile(optimizer=Adam(learning_rate=0.000001), loss='categorical_crossentropy', metrics=['accuracy'])\n",
    "\n",
    "# train on cluster1\n",
    "model.load_weights('weights/weights.hdf5')  # load weights from original model\n",
    "checkpoint = ModelCheckpoint('weights/weights1.hdf5', monitor='val_loss', save_best_only=True)\n",
    "history = model.fit(X1_train, y1_train, epochs=epochs, callbacks=[checkpoint], shuffle=True, validation_data=(X1_val, y1_val))\n",
    "model.load_weights('weights/weights1.hdf5')\n",
    "model.evaluate(X1_test, y1_test)\n",
    "\n",
    "# plot loss\n",
    "plt.plot(range(1, epochs+1), history.history['loss'], label='train')\n",
    "plt.plot(range(1, epochs+1), history.history['val_loss'], label='validation')\n",
    "plt.title('Loss for Second Cluster Model')\n",
    "plt.legend()\n",
    "plt.show()\n",
    "\n",
    "# test metrics and confidence matrix\n",
    "y_pred = np.argmax(model.predict(X1_test), axis=1)\n",
    "y_labels = np.argmax(y1_test, axis=1)\n",
    "print(classification_report(y_labels, y_pred, target_names=le.classes_.tolist()))\n",
    "print(confusion_matrix(y_labels, y_pred))"
   ]
  },
  {
   "cell_type": "code",
   "execution_count": 29,
   "id": "218ed984",
   "metadata": {},
   "outputs": [
    {
     "data": {
      "image/png": "[encoded data removed]",
      "text/plain": [
       "<Figure size 432x288 with 1 Axes>"
      ]
     },
     "metadata": {
      "needs_background": "light"
     },
     "output_type": "display_data"
    }
   ],
   "source": [
    "plt.plot(range(1, epochs+1), history.history['accuracy'], label='train')\n",
    "plt.plot(range(1, epochs+1), history.history['val_accuracy'], label='validation')\n",
    "plt.title('Accuracy for Second Cluster Model')\n",
    "plt.legend()\n",
    "plt.show()"
   ]
  },
  {
   "cell_type": "code",
   "execution_count": 30,
   "id": "9a9b5304",
   "metadata": {},
   "outputs": [
    {
     "name": "stdout",
     "output_type": "stream",
     "text": [
      "(482, 263369)\n",
      "(489, 263369)\n"
     ]
    }
   ],
   "source": [
    "print(X0.shape)\n",
    "print(X1.shape)"
   ]
  }
 ],
 "metadata": {
  "kernelspec": {
   "display_name": "Python 3 (ipykernel)",
   "language": "python",
   "name": "python3"
  },
  "language_info": {
   "codemirror_mode": {
    "name": "ipython",
    "version": 3
   },
   "file_extension": ".py",
   "mimetype": "text/x-python",
   "name": "python",
   "nbconvert_exporter": "python",
   "pygments_lexer": "ipython3",
   "version": "3.9.12"
  }
 },
 "nbformat": 4,
 "nbformat_minor": 5
}
